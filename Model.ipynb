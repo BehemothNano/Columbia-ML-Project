{
 "cells": [
  {
   "cell_type": "code",
   "execution_count": 2,
   "id": "6ade7061",
   "metadata": {},
   "outputs": [],
   "source": [
    "import numpy as np\n",
    "import pandas as pd\n",
    "import matplotlib.pyplot as plt\n",
    "import seaborn as sns\n",
    "import warnings\n",
    "warnings.filterwarnings('ignore')\n",
    "%matplotlib inline"
   ]
  },
  {
   "cell_type": "code",
   "execution_count": 6,
   "id": "9ebd1ec5",
   "metadata": {},
   "outputs": [
    {
     "name": "stdout",
     "output_type": "stream",
     "text": [
      "   Project ID  Opportunity Owner         Account Name             Stage  \\\n",
      "0            1    Amandeep Sidhu  Dana Companies, Llc   Signed Contract   \n",
      "1            2    Amandeep Sidhu  Dana Companies, Llc  Verbal Agreement   \n",
      "2            3    Amandeep Sidhu  Dana Companies, Llc  Verbal Agreement   \n",
      "3            4    Amandeep Sidhu  Dana Companies, Llc  Verbal Agreement   \n",
      "4            5        Anand Nair       Wellpoint, Inc   Signed Contract   \n",
      "\n",
      "    Amount   Expected Revenue  Probability   Service Category  \\\n",
      "0    7680.0            7680.0            1                NaN   \n",
      "1    6400.0            5760.0            1                NaN   \n",
      "2    3600.0            3240.0            1                NaN   \n",
      "3    3600.0            3240.0            1                NaN   \n",
      "4   50224.0           50224.0            1  Mainframe Systems   \n",
      "\n",
      "                Service Line  Stage Number   Account Type      Billing Type  \\\n",
      "0       Enterprise Solutions             8  US-Central BU  Time and Expense   \n",
      "1       Enterprise Solutions             7  US-Central BU  Time and Expense   \n",
      "2       Enterprise Solutions             7  US-Central BU  Time and Expense   \n",
      "3       Enterprise Solutions             7  US-Central BU  Time and Expense   \n",
      "4  Technology Build Services             8   WellPoint BU  Flat Fee Monthly   \n",
      "\n",
      "   MSA Signed  \n",
      "0           0  \n",
      "1           0  \n",
      "2           0  \n",
      "3           0  \n",
      "4           0  \n",
      "(100, 13)\n"
     ]
    }
   ],
   "source": [
    "UST2 = pd.read_csv('../UST2.csv')\n",
    "print(UST2.head())\n",
    "print(UST2.shape)"
   ]
  },
  {
   "cell_type": "code",
   "execution_count": 8,
   "id": "fe0726fb",
   "metadata": {},
   "outputs": [
    {
     "name": "stdout",
     "output_type": "stream",
     "text": [
      "   Project ID Opportunity Owner            Account Name  \\\n",
      "0           1    Amandeep Sidhu     Dana Companies, Llc   \n",
      "1           2    Amandeep Sidhu     Dana Companies, Llc   \n",
      "2           3    Amandeep Sidhu     Dana Companies, Llc   \n",
      "3           4    Amandeep Sidhu     Dana Companies, Llc   \n",
      "4           5        Anand Nair          Wellpoint, Inc   \n",
      "5           6        Anand Nair          Wellpoint, Inc   \n",
      "6           7        Anand Nair          Wellpoint, Inc   \n",
      "7           8       Arun Satyan  OfficeMax Incorporated   \n",
      "8           9      Brian Runyan           Sempra Energy   \n",
      "9          10      Chris Bryson               Starbucks   \n",
      "\n",
      "                              Stage     Amount   Expected Revenue  \\\n",
      "0                   Signed Contract      7680.0            7680.0   \n",
      "1                  Verbal Agreement      6400.0            5760.0   \n",
      "2                  Verbal Agreement      3600.0            3240.0   \n",
      "3                  Verbal Agreement      3600.0            3240.0   \n",
      "4                   Signed Contract     50224.0           50224.0   \n",
      "5                   Signed Contract    205842.0          205842.0   \n",
      "6                   Signed Contract    192066.0          192066.0   \n",
      "7            Proposal On-desk Stage     50000.0           30000.0   \n",
      "8  Opportunity Identification Stage  10000000.0         3000000.0   \n",
      "9        Proposal Preparation Stage    148200.0           74100.0   \n",
      "\n",
      "   Probability   Service Category                  Service Line  Stage Number  \\\n",
      "0            1                NaN          Enterprise Solutions             8   \n",
      "1            1                NaN          Enterprise Solutions             7   \n",
      "2            1                NaN          Enterprise Solutions             7   \n",
      "3            1                NaN          Enterprise Solutions             7   \n",
      "4            1  Mainframe Systems     Technology Build Services             8   \n",
      "5            1                NaN     Technology Build Services             8   \n",
      "6            1                NaN     Technology Build Services             8   \n",
      "7            1  Mainframe Systems     Technology Build Services             5   \n",
      "8            0                NaN  Application Managed Services             3   \n",
      "9            1                NaN     Technology Build Services             4   \n",
      "\n",
      "   New Business   Account Type      Billing Type  MSA Signed  \\\n",
      "0             0  US-Central BU  Time and Expense           0   \n",
      "1             0  US-Central BU  Time and Expense           0   \n",
      "2             0  US-Central BU  Time and Expense           0   \n",
      "3             0  US-Central BU  Time and Expense           0   \n",
      "4             0   WellPoint BU  Flat Fee Monthly           0   \n",
      "5             0   WellPoint BU  Flat Fee Monthly           0   \n",
      "6             0   WellPoint BU  Flat Fee Monthly           0   \n",
      "7             0  US-Central BU  Time and Expense           0   \n",
      "8             0     US-West BU  Flat Fee Monthly           0   \n",
      "9             0     US-West BU         Fixed Bid           0   \n",
      "\n",
      "  Unsolicited Proposal              Deliverable Type  \n",
      "0                   No       Scope of Work / Project  \n",
      "1                   No       Scope of Work / Project  \n",
      "2                   No       Scope of Work / Project  \n",
      "3                   No       Scope of Work / Project  \n",
      "4                   No            Staff Augmentation  \n",
      "5                   No            Staff Augmentation  \n",
      "6                   No            Staff Augmentation  \n",
      "7                   No            Staff Augmentation  \n",
      "8                  Yes  Managed Services / SLA Based  \n",
      "9                   No       Scope of Work / Project  \n",
      "(6891, 16)\n"
     ]
    }
   ],
   "source": [
    "UST = pd.read_csv('../UST22.csv')\n",
    "print(UST.head(10))\n",
    "print(UST.shape)"
   ]
  },
  {
   "cell_type": "code",
   "execution_count": 9,
   "id": "35d23c5f",
   "metadata": {},
   "outputs": [
    {
     "name": "stdout",
     "output_type": "stream",
     "text": [
      "<class 'pandas.core.frame.DataFrame'>\n",
      "RangeIndex: 6891 entries, 0 to 6890\n",
      "Data columns (total 16 columns):\n",
      " #   Column                Non-Null Count  Dtype  \n",
      "---  ------                --------------  -----  \n",
      " 0   Project ID            6891 non-null   int64  \n",
      " 1   Opportunity Owner     6891 non-null   object \n",
      " 2   Account Name          6891 non-null   object \n",
      " 3   Stage                 6891 non-null   object \n",
      " 4    Amount               6891 non-null   float64\n",
      " 5   Expected Revenue      6891 non-null   float64\n",
      " 6   Probability           6891 non-null   int64  \n",
      " 7   Service Category      6218 non-null   object \n",
      " 8   Service Line          6891 non-null   object \n",
      " 9   Stage Number          6891 non-null   int64  \n",
      " 10  New Business          6891 non-null   int64  \n",
      " 11  Account Type          6885 non-null   object \n",
      " 12  Billing Type          6889 non-null   object \n",
      " 13  MSA Signed            6891 non-null   int64  \n",
      " 14  Unsolicited Proposal  6882 non-null   object \n",
      " 15  Deliverable Type      6886 non-null   object \n",
      "dtypes: float64(2), int64(5), object(9)\n",
      "memory usage: 861.5+ KB\n"
     ]
    }
   ],
   "source": [
    "# See the column data types and non-missing values\n",
    "UST.info()"
   ]
  },
  {
   "cell_type": "code",
   "execution_count": 10,
   "id": "3118eba5",
   "metadata": {},
   "outputs": [
    {
     "data": {
      "text/html": [
       "<div>\n",
       "<style scoped>\n",
       "    .dataframe tbody tr th:only-of-type {\n",
       "        vertical-align: middle;\n",
       "    }\n",
       "\n",
       "    .dataframe tbody tr th {\n",
       "        vertical-align: top;\n",
       "    }\n",
       "\n",
       "    .dataframe thead th {\n",
       "        text-align: right;\n",
       "    }\n",
       "</style>\n",
       "<table border=\"1\" class=\"dataframe\">\n",
       "  <thead>\n",
       "    <tr style=\"text-align: right;\">\n",
       "      <th></th>\n",
       "      <th>Project ID</th>\n",
       "      <th>Amount</th>\n",
       "      <th>Expected Revenue</th>\n",
       "      <th>Probability</th>\n",
       "      <th>Stage Number</th>\n",
       "      <th>New Business</th>\n",
       "      <th>MSA Signed</th>\n",
       "    </tr>\n",
       "  </thead>\n",
       "  <tbody>\n",
       "    <tr>\n",
       "      <th>count</th>\n",
       "      <td>6891.000000</td>\n",
       "      <td>6.891000e+03</td>\n",
       "      <td>6.891000e+03</td>\n",
       "      <td>6891.000000</td>\n",
       "      <td>6891.000000</td>\n",
       "      <td>6891.000000</td>\n",
       "      <td>6891.000000</td>\n",
       "    </tr>\n",
       "    <tr>\n",
       "      <th>mean</th>\n",
       "      <td>3468.259034</td>\n",
       "      <td>2.925607e+05</td>\n",
       "      <td>1.115754e+05</td>\n",
       "      <td>0.574953</td>\n",
       "      <td>4.145262</td>\n",
       "      <td>0.261065</td>\n",
       "      <td>0.192860</td>\n",
       "    </tr>\n",
       "    <tr>\n",
       "      <th>std</th>\n",
       "      <td>2003.099804</td>\n",
       "      <td>1.916039e+06</td>\n",
       "      <td>8.090385e+05</td>\n",
       "      <td>0.494386</td>\n",
       "      <td>4.652349</td>\n",
       "      <td>0.439247</td>\n",
       "      <td>0.394573</td>\n",
       "    </tr>\n",
       "    <tr>\n",
       "      <th>min</th>\n",
       "      <td>1.000000</td>\n",
       "      <td>-9.009600e+05</td>\n",
       "      <td>-9.009600e+05</td>\n",
       "      <td>0.000000</td>\n",
       "      <td>-3.000000</td>\n",
       "      <td>0.000000</td>\n",
       "      <td>0.000000</td>\n",
       "    </tr>\n",
       "    <tr>\n",
       "      <th>25%</th>\n",
       "      <td>1740.500000</td>\n",
       "      <td>6.306300e+03</td>\n",
       "      <td>0.000000e+00</td>\n",
       "      <td>0.000000</td>\n",
       "      <td>-1.000000</td>\n",
       "      <td>0.000000</td>\n",
       "      <td>0.000000</td>\n",
       "    </tr>\n",
       "    <tr>\n",
       "      <th>50%</th>\n",
       "      <td>3464.000000</td>\n",
       "      <td>4.252500e+04</td>\n",
       "      <td>7.500000e+03</td>\n",
       "      <td>1.000000</td>\n",
       "      <td>8.000000</td>\n",
       "      <td>0.000000</td>\n",
       "      <td>0.000000</td>\n",
       "    </tr>\n",
       "    <tr>\n",
       "      <th>75%</th>\n",
       "      <td>5186.500000</td>\n",
       "      <td>1.350100e+05</td>\n",
       "      <td>6.162568e+04</td>\n",
       "      <td>1.000000</td>\n",
       "      <td>8.000000</td>\n",
       "      <td>1.000000</td>\n",
       "      <td>0.000000</td>\n",
       "    </tr>\n",
       "    <tr>\n",
       "      <th>max</th>\n",
       "      <td>7132.000000</td>\n",
       "      <td>9.100000e+07</td>\n",
       "      <td>3.960000e+07</td>\n",
       "      <td>1.000000</td>\n",
       "      <td>8.000000</td>\n",
       "      <td>1.000000</td>\n",
       "      <td>1.000000</td>\n",
       "    </tr>\n",
       "  </tbody>\n",
       "</table>\n",
       "</div>"
      ],
      "text/plain": [
       "        Project ID       Amount   Expected Revenue  Probability  Stage Number  \\\n",
       "count  6891.000000  6.891000e+03      6.891000e+03  6891.000000   6891.000000   \n",
       "mean   3468.259034  2.925607e+05      1.115754e+05     0.574953      4.145262   \n",
       "std    2003.099804  1.916039e+06      8.090385e+05     0.494386      4.652349   \n",
       "min       1.000000 -9.009600e+05     -9.009600e+05     0.000000     -3.000000   \n",
       "25%    1740.500000  6.306300e+03      0.000000e+00     0.000000     -1.000000   \n",
       "50%    3464.000000  4.252500e+04      7.500000e+03     1.000000      8.000000   \n",
       "75%    5186.500000  1.350100e+05      6.162568e+04     1.000000      8.000000   \n",
       "max    7132.000000  9.100000e+07      3.960000e+07     1.000000      8.000000   \n",
       "\n",
       "       New Business   MSA Signed  \n",
       "count   6891.000000  6891.000000  \n",
       "mean       0.261065     0.192860  \n",
       "std        0.439247     0.394573  \n",
       "min        0.000000     0.000000  \n",
       "25%        0.000000     0.000000  \n",
       "50%        0.000000     0.000000  \n",
       "75%        1.000000     0.000000  \n",
       "max        1.000000     1.000000  "
      ]
     },
     "execution_count": 10,
     "metadata": {},
     "output_type": "execute_result"
    }
   ],
   "source": [
    "UST.describe()"
   ]
  },
  {
   "cell_type": "code",
   "execution_count": 12,
   "id": "4d107d79",
   "metadata": {},
   "outputs": [
    {
     "data": {
      "text/plain": [
       "(292560.71132056316, 42525.0)"
      ]
     },
     "execution_count": 12,
     "metadata": {},
     "output_type": "execute_result"
    }
   ],
   "source": [
    "# Results mean there are outliers - ideally mean and median are approx equal\n",
    "UST[' Amount '].mean(), UST[' Amount '].median()"
   ]
  },
  {
   "cell_type": "code",
   "execution_count": 13,
   "id": "19489fc0",
   "metadata": {},
   "outputs": [
    {
     "data": {
      "text/plain": [
       "<matplotlib.collections.PathCollection at 0x27730e50160>"
      ]
     },
     "execution_count": 13,
     "metadata": {},
     "output_type": "execute_result"
    },
    {
     "data": {
      "image/png": "[encoded data removed]",
      "text/plain": [
       "<Figure size 432x288 with 1 Axes>"
      ]
     },
     "metadata": {
      "needs_background": "light"
     },
     "output_type": "display_data"
    }
   ],
   "source": [
    "# Scatter plot to check the outliers\n",
    "x=UST['Stage Number']\n",
    "y=UST['Expected Revenue']\n",
    "plt.scatter(x,y)"
   ]
  },
  {
   "cell_type": "code",
   "execution_count": 14,
   "id": "e08defa2",
   "metadata": {},
   "outputs": [
    {
     "data": {
      "text/plain": [
       "<matplotlib.colorbar.Colorbar at 0x27730f53a30>"
      ]
     },
     "execution_count": 14,
     "metadata": {},
     "output_type": "execute_result"
    },
    {
     "data": {
      "image/png": "[encoded data removed]",
      "text/plain": [
       "<Figure size 432x288 with 2 Axes>"
      ]
     },
     "metadata": {
      "needs_background": "light"
     },
     "output_type": "display_data"
    }
   ],
   "source": [
    "# Plot to see the distribtion of revenues vs stage number\n",
    "# Using smaller subset\n",
    "rng=np.random.RandomState(0)\n",
    "x=UST2['Stage Number']\n",
    "y=UST2['Expected Revenue']\n",
    "colors=rng.rand(100)\n",
    "sizes=1000*rng.rand(100)\n",
    "plt.scatter(x,y,c=colors,s=sizes,alpha=.3)\n",
    "plt.colorbar()"
   ]
  },
  {
   "cell_type": "code",
   "execution_count": 15,
   "id": "cbb01327",
   "metadata": {},
   "outputs": [
    {
     "name": "stdout",
     "output_type": "stream",
     "text": [
      "New Business       -0.088450\n",
      "Project ID         -0.064737\n",
      " Amount            -0.054859\n",
      "MSA Signed          0.034142\n",
      "Expected Revenue    0.102259\n",
      "Stage Number        0.552487\n",
      "Probability         1.000000\n",
      "Name: Probability, dtype: float64 \n",
      "\n",
      "New Business       -0.088450\n",
      "Project ID         -0.064737\n",
      " Amount            -0.054859\n",
      "MSA Signed          0.034142\n",
      "Expected Revenue    0.102259\n",
      "Stage Number        0.552487\n",
      "Probability         1.000000\n",
      "Name: Probability, dtype: float64\n"
     ]
    }
   ],
   "source": [
    "# Find all correlations and sort \n",
    "correlations_data = UST.corr()['Probability'].sort_values()\n",
    "\n",
    "# Print the correlations\n",
    "print(correlations_data.head(15), '\\n')\n",
    "\n",
    "# Print the most positive correlations\n",
    "print(correlations_data.tail(15))"
   ]
  },
  {
   "cell_type": "code",
   "execution_count": 16,
   "id": "7f318ee2",
   "metadata": {},
   "outputs": [
    {
     "name": "stdout",
     "output_type": "stream",
     "text": [
      " Amount            -0.275229\n",
      "Expected Revenue   -0.141655\n",
      "Project ID         -0.011839\n",
      "MSA Signed          0.074318\n",
      "Stage Number        0.807229\n",
      "Probability         1.000000\n",
      "Name: Probability, dtype: float64 \n",
      "\n"
     ]
    }
   ],
   "source": [
    "# Find all correlations and sort\n",
    "correlations_data = UST2.corr()['Probability'].sort_values()\n",
    "\n",
    "# Print the most negative correlations\n",
    "print(correlations_data.head(15), '\\n')"
   ]
  },
  {
   "cell_type": "code",
   "execution_count": 17,
   "id": "d11c6f89",
   "metadata": {},
   "outputs": [
    {
     "data": {
      "text/html": [
       "<div>\n",
       "<style scoped>\n",
       "    .dataframe tbody tr th:only-of-type {\n",
       "        vertical-align: middle;\n",
       "    }\n",
       "\n",
       "    .dataframe tbody tr th {\n",
       "        vertical-align: top;\n",
       "    }\n",
       "\n",
       "    .dataframe thead th {\n",
       "        text-align: right;\n",
       "    }\n",
       "</style>\n",
       "<table border=\"1\" class=\"dataframe\">\n",
       "  <thead>\n",
       "    <tr style=\"text-align: right;\">\n",
       "      <th></th>\n",
       "      <th>Total</th>\n",
       "      <th>Percent</th>\n",
       "    </tr>\n",
       "  </thead>\n",
       "  <tbody>\n",
       "    <tr>\n",
       "      <th>Service Category</th>\n",
       "      <td>673</td>\n",
       "      <td>9.766362</td>\n",
       "    </tr>\n",
       "    <tr>\n",
       "      <th>Unsolicited Proposal</th>\n",
       "      <td>9</td>\n",
       "      <td>0.130605</td>\n",
       "    </tr>\n",
       "    <tr>\n",
       "      <th>Account Type</th>\n",
       "      <td>6</td>\n",
       "      <td>0.087070</td>\n",
       "    </tr>\n",
       "    <tr>\n",
       "      <th>Deliverable Type</th>\n",
       "      <td>5</td>\n",
       "      <td>0.072558</td>\n",
       "    </tr>\n",
       "    <tr>\n",
       "      <th>Billing Type</th>\n",
       "      <td>2</td>\n",
       "      <td>0.029023</td>\n",
       "    </tr>\n",
       "  </tbody>\n",
       "</table>\n",
       "</div>"
      ],
      "text/plain": [
       "                      Total   Percent\n",
       "Service Category        673  9.766362\n",
       "Unsolicited Proposal      9  0.130605\n",
       "Account Type              6  0.087070\n",
       "Deliverable Type          5  0.072558\n",
       "Billing Type              2  0.029023"
      ]
     },
     "execution_count": 17,
     "metadata": {},
     "output_type": "execute_result"
    },
    {
     "data": {
      "image/png": "[encoded data removed]",
      "text/plain": [
       "<Figure size 576x432 with 1 Axes>"
      ]
     },
     "metadata": {
      "needs_background": "light"
     },
     "output_type": "display_data"
    }
   ],
   "source": [
    "#Looking at the missing data\n",
    "\n",
    "def missingdata(data):\n",
    "    total = data.isnull().sum().sort_values(ascending = False)\n",
    "    percent = (data.isnull().sum()/data.isnull().count()*100).sort_values(ascending = False)\n",
    "    ms=pd.concat([total, percent], axis=1, keys=['Total', 'Percent'])\n",
    "    ms= ms[ms[\"Percent\"] > 0]\n",
    "    f,ax =plt.subplots(figsize=(8,6))\n",
    "    plt.xticks(rotation='90')\n",
    "    fig=sns.barplot(ms.index, ms[\"Percent\"],color=\"green\",alpha=0.8)\n",
    "    plt.xlabel('Features', fontsize=15)\n",
    "    plt.ylabel('Percent of missing values', fontsize=15)\n",
    "    plt.title('Percent missing data by feature', fontsize=15)\n",
    "    return ms\n",
    "missingdata(UST)"
   ]
  },
  {
   "cell_type": "code",
   "execution_count": null,
   "id": "4970a8c8",
   "metadata": {},
   "outputs": [],
   "source": []
  },
  {
   "cell_type": "code",
   "execution_count": null,
   "id": "47e0c413",
   "metadata": {},
   "outputs": [],
   "source": [
    "# Identified missing values feature"
   ]
  },
  {
   "cell_type": "code",
   "execution_count": null,
   "id": "e21685b8",
   "metadata": {},
   "outputs": [],
   "source": [
    "# Drop service category (not useful), replace null values in other important columns"
   ]
  },
  {
   "cell_type": "code",
   "execution_count": 18,
   "id": "87a9c4dd",
   "metadata": {},
   "outputs": [],
   "source": [
    "drop_column = ['Service Category']\n",
    "UST.drop(drop_column, axis=1, inplace = True)"
   ]
  },
  {
   "cell_type": "code",
   "execution_count": 19,
   "id": "791df7f9",
   "metadata": {},
   "outputs": [],
   "source": [
    "UST['Billing Type'].fillna(UST['Billing Type'].mode()[0], inplace = True)\n",
    "UST['Deliverable Type'].fillna(UST['Deliverable Type'].mode()[0], inplace = True)\n",
    "UST['Account Type'].fillna(UST['Account Type'].mode()[0], inplace = True)\n",
    "UST['Unsolicited Proposal'].fillna(UST['Unsolicited Proposal'].mode()[0], inplace = True)\n",
    "#UST['Expected Revenue'].fillna(UST['Expected Revenue'].median(), inplace = True)"
   ]
  },
  {
   "cell_type": "code",
   "execution_count": 20,
   "id": "ca40efd7",
   "metadata": {},
   "outputs": [
    {
     "name": "stdout",
     "output_type": "stream",
     "text": [
      "check the nan value in the UST data\n",
      "Project ID              0\n",
      "Opportunity Owner       0\n",
      "Account Name            0\n",
      "Stage                   0\n",
      " Amount                 0\n",
      "Expected Revenue        0\n",
      "Probability             0\n",
      "Service Line            0\n",
      "Stage Number            0\n",
      "New Business            0\n",
      "Account Type            0\n",
      "Billing Type            0\n",
      "MSA Signed              0\n",
      "Unsolicited Proposal    0\n",
      "Deliverable Type        0\n",
      "dtype: int64\n"
     ]
    }
   ],
   "source": [
    "# check if the missing data is cleaned\n",
    "print('check the nan value in the UST data')\n",
    "print(UST.isnull().sum())"
   ]
  },
  {
   "cell_type": "code",
   "execution_count": 21,
   "id": "813f628d",
   "metadata": {},
   "outputs": [
    {
     "data": {
      "text/plain": [
       "Index(['Project ID', 'Opportunity Owner', 'Account Name', 'Stage', ' Amount ',\n",
       "       'Expected Revenue', 'Probability', 'Service Line', 'Stage Number',\n",
       "       'New Business', 'Account Type', 'Billing Type', 'MSA Signed',\n",
       "       'Unsolicited Proposal', 'Deliverable Type'],\n",
       "      dtype='object')"
      ]
     },
     "execution_count": 21,
     "metadata": {},
     "output_type": "execute_result"
    }
   ],
   "source": [
    "UST.columns"
   ]
  },
  {
   "cell_type": "code",
   "execution_count": 22,
   "id": "9a32b70c",
   "metadata": {},
   "outputs": [
    {
     "data": {
      "text/plain": [
       "(6891, 15)"
      ]
     },
     "execution_count": 22,
     "metadata": {},
     "output_type": "execute_result"
    }
   ],
   "source": [
    "UST.shape"
   ]
  },
  {
   "cell_type": "code",
   "execution_count": 23,
   "id": "613004bc",
   "metadata": {},
   "outputs": [],
   "source": [
    "all_data = UST\n",
    "import re\n",
    "                                                                            \n",
    "traindf=UST\n",
    "\n",
    "traindf = pd.get_dummies(traindf, columns = [\"Opportunity Owner\",\"Account Name\",\"Stage\",\"Service Line\",\"Stage Number\",\"Account Type\",\"Billing Type\",\"Unsolicited Proposal\",\"Deliverable Type\"],\n",
    "                             prefix=[\"Owner\",\"Account\",\"Stg\",\"SvcLn\",\"StgNum\",\"Acctype\",\"Billngtype\",\"UnSolProp\",\"DelType\"])"
   ]
  },
  {
   "cell_type": "code",
   "execution_count": 24,
   "id": "894da3bb",
   "metadata": {},
   "outputs": [
    {
     "data": {
      "text/html": [
       "<div>\n",
       "<style scoped>\n",
       "    .dataframe tbody tr th:only-of-type {\n",
       "        vertical-align: middle;\n",
       "    }\n",
       "\n",
       "    .dataframe tbody tr th {\n",
       "        vertical-align: top;\n",
       "    }\n",
       "\n",
       "    .dataframe thead th {\n",
       "        text-align: right;\n",
       "    }\n",
       "</style>\n",
       "<table border=\"1\" class=\"dataframe\">\n",
       "  <thead>\n",
       "    <tr style=\"text-align: right;\">\n",
       "      <th></th>\n",
       "      <th>Project ID</th>\n",
       "      <th>Amount</th>\n",
       "      <th>Expected Revenue</th>\n",
       "      <th>Probability</th>\n",
       "      <th>New Business</th>\n",
       "      <th>MSA Signed</th>\n",
       "      <th>Owner_Ajith Daniel</th>\n",
       "      <th>Owner_Alan Johnson</th>\n",
       "      <th>Owner_Amandeep Sidhu</th>\n",
       "      <th>Owner_Amit Mullerpattan</th>\n",
       "      <th>...</th>\n",
       "      <th>Billngtype_Internal</th>\n",
       "      <th>Billngtype_Per Seat</th>\n",
       "      <th>Billngtype_Per Transaction</th>\n",
       "      <th>Billngtype_T and E with Cap</th>\n",
       "      <th>Billngtype_Time and Expense</th>\n",
       "      <th>UnSolProp_No</th>\n",
       "      <th>UnSolProp_Yes</th>\n",
       "      <th>DelType_Managed Services / SLA Based</th>\n",
       "      <th>DelType_Scope of Work / Project</th>\n",
       "      <th>DelType_Staff Augmentation</th>\n",
       "    </tr>\n",
       "  </thead>\n",
       "  <tbody>\n",
       "    <tr>\n",
       "      <th>0</th>\n",
       "      <td>1</td>\n",
       "      <td>7680.0</td>\n",
       "      <td>7680.0</td>\n",
       "      <td>1</td>\n",
       "      <td>0</td>\n",
       "      <td>0</td>\n",
       "      <td>0</td>\n",
       "      <td>0</td>\n",
       "      <td>1</td>\n",
       "      <td>0</td>\n",
       "      <td>...</td>\n",
       "      <td>0</td>\n",
       "      <td>0</td>\n",
       "      <td>0</td>\n",
       "      <td>0</td>\n",
       "      <td>1</td>\n",
       "      <td>1</td>\n",
       "      <td>0</td>\n",
       "      <td>0</td>\n",
       "      <td>1</td>\n",
       "      <td>0</td>\n",
       "    </tr>\n",
       "    <tr>\n",
       "      <th>1</th>\n",
       "      <td>2</td>\n",
       "      <td>6400.0</td>\n",
       "      <td>5760.0</td>\n",
       "      <td>1</td>\n",
       "      <td>0</td>\n",
       "      <td>0</td>\n",
       "      <td>0</td>\n",
       "      <td>0</td>\n",
       "      <td>1</td>\n",
       "      <td>0</td>\n",
       "      <td>...</td>\n",
       "      <td>0</td>\n",
       "      <td>0</td>\n",
       "      <td>0</td>\n",
       "      <td>0</td>\n",
       "      <td>1</td>\n",
       "      <td>1</td>\n",
       "      <td>0</td>\n",
       "      <td>0</td>\n",
       "      <td>1</td>\n",
       "      <td>0</td>\n",
       "    </tr>\n",
       "    <tr>\n",
       "      <th>2</th>\n",
       "      <td>3</td>\n",
       "      <td>3600.0</td>\n",
       "      <td>3240.0</td>\n",
       "      <td>1</td>\n",
       "      <td>0</td>\n",
       "      <td>0</td>\n",
       "      <td>0</td>\n",
       "      <td>0</td>\n",
       "      <td>1</td>\n",
       "      <td>0</td>\n",
       "      <td>...</td>\n",
       "      <td>0</td>\n",
       "      <td>0</td>\n",
       "      <td>0</td>\n",
       "      <td>0</td>\n",
       "      <td>1</td>\n",
       "      <td>1</td>\n",
       "      <td>0</td>\n",
       "      <td>0</td>\n",
       "      <td>1</td>\n",
       "      <td>0</td>\n",
       "    </tr>\n",
       "    <tr>\n",
       "      <th>3</th>\n",
       "      <td>4</td>\n",
       "      <td>3600.0</td>\n",
       "      <td>3240.0</td>\n",
       "      <td>1</td>\n",
       "      <td>0</td>\n",
       "      <td>0</td>\n",
       "      <td>0</td>\n",
       "      <td>0</td>\n",
       "      <td>1</td>\n",
       "      <td>0</td>\n",
       "      <td>...</td>\n",
       "      <td>0</td>\n",
       "      <td>0</td>\n",
       "      <td>0</td>\n",
       "      <td>0</td>\n",
       "      <td>1</td>\n",
       "      <td>1</td>\n",
       "      <td>0</td>\n",
       "      <td>0</td>\n",
       "      <td>1</td>\n",
       "      <td>0</td>\n",
       "    </tr>\n",
       "    <tr>\n",
       "      <th>4</th>\n",
       "      <td>5</td>\n",
       "      <td>50224.0</td>\n",
       "      <td>50224.0</td>\n",
       "      <td>1</td>\n",
       "      <td>0</td>\n",
       "      <td>0</td>\n",
       "      <td>0</td>\n",
       "      <td>0</td>\n",
       "      <td>0</td>\n",
       "      <td>0</td>\n",
       "      <td>...</td>\n",
       "      <td>0</td>\n",
       "      <td>0</td>\n",
       "      <td>0</td>\n",
       "      <td>0</td>\n",
       "      <td>0</td>\n",
       "      <td>1</td>\n",
       "      <td>0</td>\n",
       "      <td>0</td>\n",
       "      <td>0</td>\n",
       "      <td>1</td>\n",
       "    </tr>\n",
       "  </tbody>\n",
       "</table>\n",
       "<p>5 rows × 499 columns</p>\n",
       "</div>"
      ],
      "text/plain": [
       "   Project ID   Amount   Expected Revenue  Probability  New Business  \\\n",
       "0           1    7680.0            7680.0            1             0   \n",
       "1           2    6400.0            5760.0            1             0   \n",
       "2           3    3600.0            3240.0            1             0   \n",
       "3           4    3600.0            3240.0            1             0   \n",
       "4           5   50224.0           50224.0            1             0   \n",
       "\n",
       "   MSA Signed  Owner_Ajith Daniel  Owner_Alan Johnson  Owner_Amandeep Sidhu  \\\n",
       "0           0                   0                   0                     1   \n",
       "1           0                   0                   0                     1   \n",
       "2           0                   0                   0                     1   \n",
       "3           0                   0                   0                     1   \n",
       "4           0                   0                   0                     0   \n",
       "\n",
       "   Owner_Amit Mullerpattan  ...  Billngtype_Internal  Billngtype_Per Seat  \\\n",
       "0                        0  ...                    0                    0   \n",
       "1                        0  ...                    0                    0   \n",
       "2                        0  ...                    0                    0   \n",
       "3                        0  ...                    0                    0   \n",
       "4                        0  ...                    0                    0   \n",
       "\n",
       "   Billngtype_Per Transaction  Billngtype_T and E with Cap  \\\n",
       "0                           0                            0   \n",
       "1                           0                            0   \n",
       "2                           0                            0   \n",
       "3                           0                            0   \n",
       "4                           0                            0   \n",
       "\n",
       "   Billngtype_Time and Expense  UnSolProp_No  UnSolProp_Yes  \\\n",
       "0                            1             1              0   \n",
       "1                            1             1              0   \n",
       "2                            1             1              0   \n",
       "3                            1             1              0   \n",
       "4                            0             1              0   \n",
       "\n",
       "   DelType_Managed Services / SLA Based  DelType_Scope of Work / Project  \\\n",
       "0                                     0                                1   \n",
       "1                                     0                                1   \n",
       "2                                     0                                1   \n",
       "3                                     0                                1   \n",
       "4                                     0                                0   \n",
       "\n",
       "   DelType_Staff Augmentation  \n",
       "0                           0  \n",
       "1                           0  \n",
       "2                           0  \n",
       "3                           0  \n",
       "4                           1  \n",
       "\n",
       "[5 rows x 499 columns]"
      ]
     },
     "execution_count": 24,
     "metadata": {},
     "output_type": "execute_result"
    }
   ],
   "source": [
    "traindf.head()"
   ]
  },
  {
   "cell_type": "code",
   "execution_count": 25,
   "id": "69041eff",
   "metadata": {},
   "outputs": [],
   "source": [
    "from sklearn.model_selection import train_test_split #for split the data\n",
    "from sklearn.metrics import accuracy_score  #for accuracy_score\n",
    "from sklearn.model_selection import KFold #for K-fold cross validation\n",
    "from sklearn.model_selection import cross_val_score #score evaluation\n",
    "from sklearn.model_selection import cross_val_predict #prediction\n",
    "from sklearn.model_selection import GridSearchCV # for Hyper parameter tuning\n",
    "from sklearn.metrics import confusion_matrix #for confusion matrix\n",
    "from sklearn import metrics"
   ]
  },
  {
   "cell_type": "code",
   "execution_count": 26,
   "id": "f2ff9adf",
   "metadata": {},
   "outputs": [
    {
     "data": {
      "text/plain": [
       "((4823, 498), (2068, 498), (4823,), (2068,))"
      ]
     },
     "execution_count": 26,
     "metadata": {},
     "output_type": "execute_result"
    }
   ],
   "source": [
    "all_features = traindf.drop(\"Probability\",axis=1)\n",
    "Targeted_feature = traindf[\"Probability\"]\n",
    "\n",
    "# total of 6891 records in dataset\n",
    "# Divide the data set into two- 70% for train and 30% for test\n",
    "\n",
    "#X_train,X_test,y_train,y_test = train_test_split(all_features,Targeted_feature,test_size=0.3)  \n",
    "X_train,X_test,y_train,y_test = train_test_split(all_features,Targeted_feature,test_size=0.3,random_state=42) \n",
    "\n",
    "# Check the train test data set shape\n",
    "X_train.shape,X_test.shape,y_train.shape,y_test.shape"
   ]
  },
  {
   "cell_type": "markdown",
   "id": "4afe7291",
   "metadata": {},
   "source": [
    "# XG Boost"
   ]
  },
  {
   "cell_type": "code",
   "execution_count": 37,
   "id": "609fb265",
   "metadata": {},
   "outputs": [],
   "source": [
    "# put traindf into clean.csv - only needs to be run once\n",
    "# traindf.to_csv('Datasets/clean.csv')"
   ]
  },
  {
   "cell_type": "code",
   "execution_count": 44,
   "id": "4dc1116b",
   "metadata": {},
   "outputs": [
    {
     "ename": "ValueError",
     "evalue": "could not convert string to float: 'Unnamed: 0'",
     "output_type": "error",
     "traceback": [
      "\u001b[1;31m---------------------------------------------------------------------------\u001b[0m",
      "\u001b[1;31mValueError\u001b[0m                                Traceback (most recent call last)",
      "Input \u001b[1;32mIn [44]\u001b[0m, in \u001b[0;36m<cell line: 8>\u001b[1;34m()\u001b[0m\n\u001b[0;32m      6\u001b[0m data \u001b[38;5;241m=\u001b[39m pd\u001b[38;5;241m.\u001b[39mread_csv(\u001b[38;5;124m'\u001b[39m\u001b[38;5;124m../Anaconda/Datasets/clean.csv\u001b[39m\u001b[38;5;124m'\u001b[39m) \u001b[38;5;66;03m# pd.DataFrame(np.arange(12).reshape((4,3)), columns=['a', 'b', 'c'])\u001b[39;00m\n\u001b[0;32m      7\u001b[0m label \u001b[38;5;241m=\u001b[39m data\u001b[38;5;241m.\u001b[39mcolumns \u001b[38;5;66;03m# pd.DataFrame(np.random.randint(2, size=4))\u001b[39;00m\n\u001b[1;32m----> 8\u001b[0m dtrain \u001b[38;5;241m=\u001b[39m \u001b[43mxgb\u001b[49m\u001b[38;5;241;43m.\u001b[39;49m\u001b[43mDMatrix\u001b[49m\u001b[43m(\u001b[49m\u001b[43mdata\u001b[49m\u001b[43m,\u001b[49m\u001b[43m \u001b[49m\u001b[43mlabel\u001b[49m\u001b[38;5;241;43m=\u001b[39;49m\u001b[43mlabel\u001b[49m\u001b[43m)\u001b[49m\n\u001b[0;32m     10\u001b[0m \u001b[38;5;66;03m# Set parameters\u001b[39;00m\n\u001b[0;32m     11\u001b[0m param \u001b[38;5;241m=\u001b[39m {\u001b[38;5;124m'\u001b[39m\u001b[38;5;124mmax_depth\u001b[39m\u001b[38;5;124m'\u001b[39m: \u001b[38;5;241m2\u001b[39m, \u001b[38;5;124m'\u001b[39m\u001b[38;5;124meta\u001b[39m\u001b[38;5;124m'\u001b[39m: \u001b[38;5;241m1\u001b[39m, \u001b[38;5;124m'\u001b[39m\u001b[38;5;124mobjective\u001b[39m\u001b[38;5;124m'\u001b[39m: \u001b[38;5;124m'\u001b[39m\u001b[38;5;124mbinary:logistic\u001b[39m\u001b[38;5;124m'\u001b[39m}\n",
      "File \u001b[1;32mD:\\Anaconda\\lib\\site-packages\\xgboost\\core.py:532\u001b[0m, in \u001b[0;36m_deprecate_positional_args.<locals>.inner_f\u001b[1;34m(*args, **kwargs)\u001b[0m\n\u001b[0;32m    530\u001b[0m \u001b[38;5;28;01mfor\u001b[39;00m k, arg \u001b[38;5;129;01min\u001b[39;00m \u001b[38;5;28mzip\u001b[39m(sig\u001b[38;5;241m.\u001b[39mparameters, args):\n\u001b[0;32m    531\u001b[0m     kwargs[k] \u001b[38;5;241m=\u001b[39m arg\n\u001b[1;32m--> 532\u001b[0m \u001b[38;5;28;01mreturn\u001b[39;00m f(\u001b[38;5;241m*\u001b[39m\u001b[38;5;241m*\u001b[39mkwargs)\n",
      "File \u001b[1;32mD:\\Anaconda\\lib\\site-packages\\xgboost\\core.py:654\u001b[0m, in \u001b[0;36mDMatrix.__init__\u001b[1;34m(self, data, label, weight, base_margin, missing, silent, feature_names, feature_types, nthread, group, qid, label_lower_bound, label_upper_bound, feature_weights, enable_categorical)\u001b[0m\n\u001b[0;32m    651\u001b[0m \u001b[38;5;28;01massert\u001b[39;00m handle \u001b[38;5;129;01mis\u001b[39;00m \u001b[38;5;129;01mnot\u001b[39;00m \u001b[38;5;28;01mNone\u001b[39;00m\n\u001b[0;32m    652\u001b[0m \u001b[38;5;28mself\u001b[39m\u001b[38;5;241m.\u001b[39mhandle \u001b[38;5;241m=\u001b[39m handle\n\u001b[1;32m--> 654\u001b[0m \u001b[38;5;28;43mself\u001b[39;49m\u001b[38;5;241;43m.\u001b[39;49m\u001b[43mset_info\u001b[49m\u001b[43m(\u001b[49m\n\u001b[0;32m    655\u001b[0m \u001b[43m    \u001b[49m\u001b[43mlabel\u001b[49m\u001b[38;5;241;43m=\u001b[39;49m\u001b[43mlabel\u001b[49m\u001b[43m,\u001b[49m\n\u001b[0;32m    656\u001b[0m \u001b[43m    \u001b[49m\u001b[43mweight\u001b[49m\u001b[38;5;241;43m=\u001b[39;49m\u001b[43mweight\u001b[49m\u001b[43m,\u001b[49m\n\u001b[0;32m    657\u001b[0m \u001b[43m    \u001b[49m\u001b[43mbase_margin\u001b[49m\u001b[38;5;241;43m=\u001b[39;49m\u001b[43mbase_margin\u001b[49m\u001b[43m,\u001b[49m\n\u001b[0;32m    658\u001b[0m \u001b[43m    \u001b[49m\u001b[43mgroup\u001b[49m\u001b[38;5;241;43m=\u001b[39;49m\u001b[43mgroup\u001b[49m\u001b[43m,\u001b[49m\n\u001b[0;32m    659\u001b[0m \u001b[43m    \u001b[49m\u001b[43mqid\u001b[49m\u001b[38;5;241;43m=\u001b[39;49m\u001b[43mqid\u001b[49m\u001b[43m,\u001b[49m\n\u001b[0;32m    660\u001b[0m \u001b[43m    \u001b[49m\u001b[43mlabel_lower_bound\u001b[49m\u001b[38;5;241;43m=\u001b[39;49m\u001b[43mlabel_lower_bound\u001b[49m\u001b[43m,\u001b[49m\n\u001b[0;32m    661\u001b[0m \u001b[43m    \u001b[49m\u001b[43mlabel_upper_bound\u001b[49m\u001b[38;5;241;43m=\u001b[39;49m\u001b[43mlabel_upper_bound\u001b[49m\u001b[43m,\u001b[49m\n\u001b[0;32m    662\u001b[0m \u001b[43m    \u001b[49m\u001b[43mfeature_weights\u001b[49m\u001b[38;5;241;43m=\u001b[39;49m\u001b[43mfeature_weights\u001b[49m\u001b[43m,\u001b[49m\n\u001b[0;32m    663\u001b[0m \u001b[43m\u001b[49m\u001b[43m)\u001b[49m\n\u001b[0;32m    665\u001b[0m \u001b[38;5;28;01mif\u001b[39;00m feature_names \u001b[38;5;129;01mis\u001b[39;00m \u001b[38;5;129;01mnot\u001b[39;00m \u001b[38;5;28;01mNone\u001b[39;00m:\n\u001b[0;32m    666\u001b[0m     \u001b[38;5;28mself\u001b[39m\u001b[38;5;241m.\u001b[39mfeature_names \u001b[38;5;241m=\u001b[39m feature_names\n",
      "File \u001b[1;32mD:\\Anaconda\\lib\\site-packages\\xgboost\\core.py:532\u001b[0m, in \u001b[0;36m_deprecate_positional_args.<locals>.inner_f\u001b[1;34m(*args, **kwargs)\u001b[0m\n\u001b[0;32m    530\u001b[0m \u001b[38;5;28;01mfor\u001b[39;00m k, arg \u001b[38;5;129;01min\u001b[39;00m \u001b[38;5;28mzip\u001b[39m(sig\u001b[38;5;241m.\u001b[39mparameters, args):\n\u001b[0;32m    531\u001b[0m     kwargs[k] \u001b[38;5;241m=\u001b[39m arg\n\u001b[1;32m--> 532\u001b[0m \u001b[38;5;28;01mreturn\u001b[39;00m f(\u001b[38;5;241m*\u001b[39m\u001b[38;5;241m*\u001b[39mkwargs)\n",
      "File \u001b[1;32mD:\\Anaconda\\lib\\site-packages\\xgboost\\core.py:719\u001b[0m, in \u001b[0;36mDMatrix.set_info\u001b[1;34m(self, label, weight, base_margin, group, qid, label_lower_bound, label_upper_bound, feature_names, feature_types, feature_weights)\u001b[0m\n\u001b[0;32m    716\u001b[0m \u001b[38;5;28;01mfrom\u001b[39;00m \u001b[38;5;21;01m.\u001b[39;00m\u001b[38;5;21;01mdata\u001b[39;00m \u001b[38;5;28;01mimport\u001b[39;00m dispatch_meta_backend\n\u001b[0;32m    718\u001b[0m \u001b[38;5;28;01mif\u001b[39;00m label \u001b[38;5;129;01mis\u001b[39;00m \u001b[38;5;129;01mnot\u001b[39;00m \u001b[38;5;28;01mNone\u001b[39;00m:\n\u001b[1;32m--> 719\u001b[0m     \u001b[38;5;28;43mself\u001b[39;49m\u001b[38;5;241;43m.\u001b[39;49m\u001b[43mset_label\u001b[49m\u001b[43m(\u001b[49m\u001b[43mlabel\u001b[49m\u001b[43m)\u001b[49m\n\u001b[0;32m    720\u001b[0m \u001b[38;5;28;01mif\u001b[39;00m weight \u001b[38;5;129;01mis\u001b[39;00m \u001b[38;5;129;01mnot\u001b[39;00m \u001b[38;5;28;01mNone\u001b[39;00m:\n\u001b[0;32m    721\u001b[0m     \u001b[38;5;28mself\u001b[39m\u001b[38;5;241m.\u001b[39mset_weight(weight)\n",
      "File \u001b[1;32mD:\\Anaconda\\lib\\site-packages\\xgboost\\core.py:850\u001b[0m, in \u001b[0;36mDMatrix.set_label\u001b[1;34m(self, label)\u001b[0m\n\u001b[0;32m    842\u001b[0m \u001b[38;5;124;03m\"\"\"Set label of dmatrix\u001b[39;00m\n\u001b[0;32m    843\u001b[0m \n\u001b[0;32m    844\u001b[0m \u001b[38;5;124;03mParameters\u001b[39;00m\n\u001b[1;32m   (...)\u001b[0m\n\u001b[0;32m    847\u001b[0m \u001b[38;5;124;03m    The label information to be set into DMatrix\u001b[39;00m\n\u001b[0;32m    848\u001b[0m \u001b[38;5;124;03m\"\"\"\u001b[39;00m\n\u001b[0;32m    849\u001b[0m \u001b[38;5;28;01mfrom\u001b[39;00m \u001b[38;5;21;01m.\u001b[39;00m\u001b[38;5;21;01mdata\u001b[39;00m \u001b[38;5;28;01mimport\u001b[39;00m dispatch_meta_backend\n\u001b[1;32m--> 850\u001b[0m \u001b[43mdispatch_meta_backend\u001b[49m\u001b[43m(\u001b[49m\u001b[38;5;28;43mself\u001b[39;49m\u001b[43m,\u001b[49m\u001b[43m \u001b[49m\u001b[43mlabel\u001b[49m\u001b[43m,\u001b[49m\u001b[43m \u001b[49m\u001b[38;5;124;43m'\u001b[39;49m\u001b[38;5;124;43mlabel\u001b[39;49m\u001b[38;5;124;43m'\u001b[39;49m\u001b[43m,\u001b[49m\u001b[43m \u001b[49m\u001b[38;5;124;43m'\u001b[39;49m\u001b[38;5;124;43mfloat\u001b[39;49m\u001b[38;5;124;43m'\u001b[39;49m\u001b[43m)\u001b[49m\n",
      "File \u001b[1;32mD:\\Anaconda\\lib\\site-packages\\xgboost\\data.py:1073\u001b[0m, in \u001b[0;36mdispatch_meta_backend\u001b[1;34m(matrix, data, name, dtype)\u001b[0m\n\u001b[0;32m   1070\u001b[0m \u001b[38;5;28;01mif\u001b[39;00m _has_array_protocol(data):\n\u001b[0;32m   1071\u001b[0m     \u001b[38;5;66;03m# pyarrow goes here.\u001b[39;00m\n\u001b[0;32m   1072\u001b[0m     array \u001b[38;5;241m=\u001b[39m np\u001b[38;5;241m.\u001b[39masarray(data)\n\u001b[1;32m-> 1073\u001b[0m     \u001b[43m_meta_from_numpy\u001b[49m\u001b[43m(\u001b[49m\u001b[43marray\u001b[49m\u001b[43m,\u001b[49m\u001b[43m \u001b[49m\u001b[43mname\u001b[49m\u001b[43m,\u001b[49m\u001b[43m \u001b[49m\u001b[43mdtype\u001b[49m\u001b[43m,\u001b[49m\u001b[43m \u001b[49m\u001b[43mhandle\u001b[49m\u001b[43m)\u001b[49m\n\u001b[0;32m   1074\u001b[0m     \u001b[38;5;28;01mreturn\u001b[39;00m\n\u001b[0;32m   1075\u001b[0m \u001b[38;5;28;01mraise\u001b[39;00m \u001b[38;5;167;01mTypeError\u001b[39;00m(\u001b[38;5;124m'\u001b[39m\u001b[38;5;124mUnsupported type for \u001b[39m\u001b[38;5;124m'\u001b[39m \u001b[38;5;241m+\u001b[39m name, \u001b[38;5;28mstr\u001b[39m(\u001b[38;5;28mtype\u001b[39m(data)))\n",
      "File \u001b[1;32mD:\\Anaconda\\lib\\site-packages\\xgboost\\data.py:971\u001b[0m, in \u001b[0;36m_meta_from_numpy\u001b[1;34m(data, field, dtype, handle)\u001b[0m\n\u001b[0;32m    965\u001b[0m \u001b[38;5;28;01mdef\u001b[39;00m \u001b[38;5;21m_meta_from_numpy\u001b[39m(\n\u001b[0;32m    966\u001b[0m     data: np\u001b[38;5;241m.\u001b[39mndarray,\n\u001b[0;32m    967\u001b[0m     field: \u001b[38;5;28mstr\u001b[39m,\n\u001b[0;32m    968\u001b[0m     dtype: Optional[Union[np\u001b[38;5;241m.\u001b[39mdtype, \u001b[38;5;28mstr\u001b[39m]],\n\u001b[0;32m    969\u001b[0m     handle: ctypes\u001b[38;5;241m.\u001b[39mc_void_p,\n\u001b[0;32m    970\u001b[0m ) \u001b[38;5;241m-\u001b[39m\u001b[38;5;241m>\u001b[39m \u001b[38;5;28;01mNone\u001b[39;00m:\n\u001b[1;32m--> 971\u001b[0m     data, dtype \u001b[38;5;241m=\u001b[39m \u001b[43m_ensure_np_dtype\u001b[49m\u001b[43m(\u001b[49m\u001b[43mdata\u001b[49m\u001b[43m,\u001b[49m\u001b[43m \u001b[49m\u001b[43mdtype\u001b[49m\u001b[43m)\u001b[49m\n\u001b[0;32m    972\u001b[0m     interface \u001b[38;5;241m=\u001b[39m data\u001b[38;5;241m.\u001b[39m__array_interface__\n\u001b[0;32m    973\u001b[0m     \u001b[38;5;28;01mif\u001b[39;00m interface\u001b[38;5;241m.\u001b[39mget(\u001b[38;5;124m\"\u001b[39m\u001b[38;5;124mmask\u001b[39m\u001b[38;5;124m\"\u001b[39m, \u001b[38;5;28;01mNone\u001b[39;00m) \u001b[38;5;129;01mis\u001b[39;00m \u001b[38;5;129;01mnot\u001b[39;00m \u001b[38;5;28;01mNone\u001b[39;00m:\n",
      "File \u001b[1;32mD:\\Anaconda\\lib\\site-packages\\xgboost\\data.py:144\u001b[0m, in \u001b[0;36m_ensure_np_dtype\u001b[1;34m(data, dtype)\u001b[0m\n\u001b[0;32m    142\u001b[0m \u001b[38;5;28;01mdef\u001b[39;00m \u001b[38;5;21m_ensure_np_dtype\u001b[39m(data, dtype) \u001b[38;5;241m-\u001b[39m\u001b[38;5;241m>\u001b[39m Tuple[np\u001b[38;5;241m.\u001b[39mndarray, np\u001b[38;5;241m.\u001b[39mdtype]:\n\u001b[0;32m    143\u001b[0m     \u001b[38;5;28;01mif\u001b[39;00m data\u001b[38;5;241m.\u001b[39mdtype\u001b[38;5;241m.\u001b[39mhasobject \u001b[38;5;129;01mor\u001b[39;00m data\u001b[38;5;241m.\u001b[39mdtype \u001b[38;5;129;01min\u001b[39;00m [np\u001b[38;5;241m.\u001b[39mfloat16, np\u001b[38;5;241m.\u001b[39mbool_]:\n\u001b[1;32m--> 144\u001b[0m         data \u001b[38;5;241m=\u001b[39m \u001b[43mdata\u001b[49m\u001b[38;5;241;43m.\u001b[39;49m\u001b[43mastype\u001b[49m\u001b[43m(\u001b[49m\u001b[43mnp\u001b[49m\u001b[38;5;241;43m.\u001b[39;49m\u001b[43mfloat32\u001b[49m\u001b[43m,\u001b[49m\u001b[43m \u001b[49m\u001b[43mcopy\u001b[49m\u001b[38;5;241;43m=\u001b[39;49m\u001b[38;5;28;43;01mFalse\u001b[39;49;00m\u001b[43m)\u001b[49m\n\u001b[0;32m    145\u001b[0m         dtype \u001b[38;5;241m=\u001b[39m np\u001b[38;5;241m.\u001b[39mfloat32\n\u001b[0;32m    146\u001b[0m     \u001b[38;5;28;01mreturn\u001b[39;00m data, dtype\n",
      "\u001b[1;31mValueError\u001b[0m: could not convert string to float: 'Unnamed: 0'"
     ]
    }
   ],
   "source": [
    "# https://xgboost.readthedocs.io/en/stable/python/python_intro.html#setting-parameters\n",
    "\n",
    "import xgboost as xgb\n",
    "\n",
    "# Read data\n",
    "data = pd.read_csv('Datasets/clean.csv') # pd.DataFrame(np.arange(12).reshape((4,3)), columns=['a', 'b', 'c'])\n",
    "label = data.columns # pd.DataFrame(np.random.randint(2, size=4))\n",
    "dtrain = xgb.DMatrix(data, label=label)\n",
    "\n",
    "# Set parameters\n",
    "param = {'max_depth': 2, 'eta': 1, 'objective': 'binary:logistic'}\n",
    "param['nthread'] = 4\n",
    "param['eval_metric'] = 'auc'\n",
    "\n",
    "# Training\n",
    "num_round = 10\n",
    "bst = xgb.train(param, dtrain, num_round, evallist)\n",
    "\n",
    "# Save model\n",
    "bst.save_model('0001.model')\n",
    "\n",
    "# Load saved model\n",
    "# bst = xgb.Booster({'nthread': 4})  # init model\n",
    "# bst.load_model('model.bin')  # load data\n",
    "\n",
    "# Prediction\n",
    "# 7 entities, each contains 10 features\n",
    "data = np.random.rand(7, 10)\n",
    "dtest = xgb.DMatrix(data)\n",
    "ypred = bst.predict(dtest)\n",
    "\n",
    "# Graph \n",
    "xgb.plot_importance(bst)"
   ]
  },
  {
   "cell_type": "markdown",
   "id": "f725cc6d",
   "metadata": {},
   "source": [
    "## Back to other model"
   ]
  },
  {
   "cell_type": "code",
   "execution_count": 29,
   "id": "8f81570a",
   "metadata": {},
   "outputs": [
    {
     "data": {
      "text/plain": [
       "LogisticRegression()"
      ]
     },
     "execution_count": 29,
     "metadata": {},
     "output_type": "execute_result"
    }
   ],
   "source": [
    "# Train the logistic regression model with training data\n",
    "\n",
    "from sklearn.linear_model import LogisticRegression\n",
    "\n",
    "logreg = LogisticRegression()\n",
    "logreg.fit(X_train, y_train)\n"
   ]
  },
  {
   "cell_type": "code",
   "execution_count": 30,
   "id": "9007fba9",
   "metadata": {},
   "outputs": [
    {
     "name": "stdout",
     "output_type": "stream",
     "text": [
      "--------------The Accuracy of the model----------------------------\n",
      "Accuracy of logistic regression classifier on test set: 0.96\n"
     ]
    },
    {
     "data": {
      "text/plain": [
       "Text(0.5, 1.05, 'Confusion_matrix')"
      ]
     },
     "execution_count": 30,
     "metadata": {},
     "output_type": "execute_result"
    },
    {
     "data": {
      "image/png": "[encoded data removed]",
      "text/plain": [
       "<Figure size 432x288 with 2 Axes>"
      ]
     },
     "metadata": {
      "needs_background": "light"
     },
     "output_type": "display_data"
    }
   ],
   "source": [
    "# predict the model output with test data \n",
    "\n",
    "y_pred = logreg.predict(X_test)\n",
    "\n",
    "print('--------------The Accuracy of the model----------------------------')\n",
    "print('Accuracy of logistic regression classifier on test set: {:.2f}'.format(logreg.score(X_test, y_test)))\n",
    "\n",
    "sns.heatmap(confusion_matrix(y_test,y_pred),annot=True,fmt='3.0f',cmap=\"summer\")\n",
    "plt.title('Confusion_matrix', y=1.05, size=15)"
   ]
  },
  {
   "cell_type": "code",
   "execution_count": 31,
   "id": "5dcf6c6c",
   "metadata": {},
   "outputs": [
    {
     "name": "stdout",
     "output_type": "stream",
     "text": [
      "--------------The Accuracy of the model----------------------------\n",
      "The accuracy of the Random Forest Classifier is 99.56\n"
     ]
    }
   ],
   "source": [
    "from sklearn.ensemble import RandomForestClassifier\n",
    "rf_model = RandomForestClassifier(criterion='gini', n_estimators=700,\n",
    "                             min_samples_split=10,min_samples_leaf=1,\n",
    "                             max_features='auto',oob_score=True,\n",
    "                             random_state=1,n_jobs=-1)\n",
    "rf_model.fit(X_train,y_train)\n",
    "y_pred_rm=rf_model.predict(X_test)\n",
    "\n",
    "print('--------------The Accuracy of the model----------------------------')\n",
    "print('The accuracy of the Random Forest Classifier is', round(accuracy_score(y_pred_rm,y_test)*100,2))\n"
   ]
  },
  {
   "cell_type": "code",
   "execution_count": 32,
   "id": "0071514c",
   "metadata": {},
   "outputs": [
    {
     "name": "stdout",
     "output_type": "stream",
     "text": [
      "              precision    recall  f1-score   support\n",
      "\n",
      "           0       1.00      0.99      0.99       874\n",
      "           1       0.99      1.00      1.00      1194\n",
      "\n",
      "    accuracy                           1.00      2068\n",
      "   macro avg       1.00      1.00      1.00      2068\n",
      "weighted avg       1.00      1.00      1.00      2068\n",
      "\n"
     ]
    }
   ],
   "source": [
    "print(metrics.classification_report(y_pred_rm,y_test))"
   ]
  },
  {
   "cell_type": "code",
   "execution_count": 34,
   "id": "86621a41",
   "metadata": {},
   "outputs": [
    {
     "data": {
      "text/plain": [
       "Text(83.40000000000006, 0.5, 'predicted label')"
      ]
     },
     "execution_count": 34,
     "metadata": {},
     "output_type": "execute_result"
    },
    {
     "data": {
      "image/png": "[encoded data removed]",
      "text/plain": [
       "<Figure size 432x288 with 2 Axes>"
      ]
     },
     "metadata": {
      "needs_background": "light"
     },
     "output_type": "display_data"
    }
   ],
   "source": [
    "from sklearn.metrics import confusion_matrix\n",
    "mat=confusion_matrix(y_test,y_pred_rm)\n",
    "sns.heatmap(mat.T,square=True,annot=True,fmt='d')\n",
    "plt.xlabel('true label')\n",
    "plt.ylabel('predicted label')"
   ]
  },
  {
   "cell_type": "code",
   "execution_count": 35,
   "id": "d25f3bf5",
   "metadata": {},
   "outputs": [
    {
     "name": "stdout",
     "output_type": "stream",
     "text": [
      "[0 0 1 ... 0 1 0]\n"
     ]
    }
   ],
   "source": [
    "print(y_pred_rm)"
   ]
  },
  {
   "cell_type": "code",
   "execution_count": null,
   "id": "6fe055a0",
   "metadata": {},
   "outputs": [],
   "source": []
  }
 ],
 "metadata": {
  "kernelspec": {
   "display_name": "Python 3 (ipykernel)",
   "language": "python",
   "name": "python3"
  },
  "language_info": {
   "codemirror_mode": {
    "name": "ipython",
    "version": 3
   },
   "file_extension": ".py",
   "mimetype": "text/x-python",
   "name": "python",
   "nbconvert_exporter": "python",
   "pygments_lexer": "ipython3",
   "version": "3.9.12"
  }
 },
 "nbformat": 4,
 "nbformat_minor": 5
}
