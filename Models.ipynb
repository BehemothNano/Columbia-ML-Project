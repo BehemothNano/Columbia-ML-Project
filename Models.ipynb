{
 "cells": [
  {
   "cell_type": "code",
   "execution_count": 6,
   "id": "6ade7061",
   "metadata": {},
   "outputs": [],
   "source": [
    "import numpy as np\n",
    "import pandas as pd\n",
    "import matplotlib.pyplot as plt\n",
    "import seaborn as sns\n",
    "import warnings\n",
    "warnings.filterwarnings('ignore')\n",
    "%matplotlib inline"
   ]
  },
  {
   "cell_type": "code",
   "execution_count": 7,
   "id": "9ebd1ec5",
   "metadata": {},
   "outputs": [
    {
     "name": "stdout",
     "output_type": "stream",
     "text": [
      "        id  member_id    CLI        term  int_rate  installment grade  \\\n",
      "0  1077501    1296599   5000   36 months     10.65       162.87     B   \n",
      "1  1077430    1314167   2500   60 months     15.27        59.83     C   \n",
      "2  1077175    1313524   2400   36 months     15.96        84.33     C   \n",
      "3  1076863    1277178  10000   36 months     13.49       339.31     C   \n",
      "4  1075358    1311748   3000   60 months     12.69        67.79     B   \n",
      "\n",
      "  sub_grade emp_length home_ownership  ...  out_prncp_inv   total_pymnt  \\\n",
      "0        B2  10+ years           RENT  ...            0.0   5861.071414   \n",
      "1        C4   < 1 year           RENT  ...            0.0   1008.710000   \n",
      "2        C5  10+ years           RENT  ...            0.0   3003.653644   \n",
      "3        C1  10+ years           RENT  ...            0.0  12226.302210   \n",
      "4        B5     1 year           RENT  ...          766.9   3242.170000   \n",
      "\n",
      "  total_pymnt_inv  total_rec_prncp  total_rec_int total_rec_late_fee  \\\n",
      "0         5831.78          5000.00         861.07               0.00   \n",
      "1         1008.71           456.46         435.17               0.00   \n",
      "2         3003.65          2400.00         603.65               0.00   \n",
      "3        12226.30         10000.00        2209.33              16.97   \n",
      "4         3242.17          2233.10        1009.07               0.00   \n",
      "\n",
      "   recoveries  collection_recovery_fee  last_pymnt_amnt  last_credit_pull_d  \n",
      "0        0.00                     0.00           171.62              16-Jan  \n",
      "1      117.08                     1.11           119.66              13-Sep  \n",
      "2        0.00                     0.00           649.91              16-Jan  \n",
      "3        0.00                     0.00           357.48              15-Jan  \n",
      "4        0.00                     0.00            67.79              16-Jan  \n",
      "\n",
      "[5 rows x 33 columns]\n",
      "(100, 33)\n"
     ]
    }
   ],
   "source": [
    "UST2 = pd.read_csv('../clean2.csv')\n",
    "print(UST2.head())\n",
    "print(UST2.shape)"
   ]
  },
  {
   "cell_type": "code",
   "execution_count": 8,
   "id": "fe0726fb",
   "metadata": {},
   "outputs": [
    {
     "name": "stdout",
     "output_type": "stream",
     "text": [
      "        id  member_id    CLI        term  int_rate  installment grade  \\\n",
      "0  1077501    1296599   5000   36 months     10.65       162.87     B   \n",
      "1  1077430    1314167   2500   60 months     15.27        59.83     C   \n",
      "2  1077175    1313524   2400   36 months     15.96        84.33     C   \n",
      "3  1076863    1277178  10000   36 months     13.49       339.31     C   \n",
      "4  1075358    1311748   3000   60 months     12.69        67.79     B   \n",
      "5  1075269    1311441   5000   36 months      7.90       156.46     A   \n",
      "6  1069639    1304742   7000   60 months     15.96       170.08     C   \n",
      "7  1072053    1288686   3000   36 months     18.64       109.43     E   \n",
      "8  1071795    1306957   5600   60 months     21.28       152.39     F   \n",
      "9  1071570    1306721   5375   60 months     12.69       121.45     B   \n",
      "\n",
      "  sub_grade emp_length home_ownership  ...  out_prncp_inv   total_pymnt  \\\n",
      "0        B2  10+ years           RENT  ...           0.00   5861.071414   \n",
      "1        C4   < 1 year           RENT  ...           0.00   1008.710000   \n",
      "2        C5  10+ years           RENT  ...           0.00   3003.653644   \n",
      "3        C1  10+ years           RENT  ...           0.00  12226.302210   \n",
      "4        B5     1 year           RENT  ...         766.90   3242.170000   \n",
      "5        A4    3 years           RENT  ...           0.00   5631.377753   \n",
      "6        C5    8 years           RENT  ...        1889.15   8136.840000   \n",
      "7        E1    9 years           RENT  ...           0.00   3938.144334   \n",
      "8        F2    4 years            OWN  ...           0.00    646.020000   \n",
      "9        B5   < 1 year           RENT  ...           0.00   1476.190000   \n",
      "\n",
      "  total_pymnt_inv  total_rec_prncp  total_rec_int total_rec_late_fee  \\\n",
      "0         5831.78          5000.00         861.07               0.00   \n",
      "1         1008.71           456.46         435.17               0.00   \n",
      "2         3003.65          2400.00         603.65               0.00   \n",
      "3        12226.30         10000.00        2209.33              16.97   \n",
      "4         3242.17          2233.10        1009.07               0.00   \n",
      "5         5631.38          5000.00         631.38               0.00   \n",
      "6         8136.84          5110.85        3025.99               0.00   \n",
      "7         3938.14          3000.00         938.14               0.00   \n",
      "8          646.02           162.02         294.94               0.00   \n",
      "9         1469.34           673.48         533.42               0.00   \n",
      "\n",
      "   recoveries  collection_recovery_fee  last_pymnt_amnt  last_credit_pull_d  \n",
      "0        0.00                     0.00           171.62              16-Jan  \n",
      "1      117.08                     1.11           119.66              13-Sep  \n",
      "2        0.00                     0.00           649.91              16-Jan  \n",
      "3        0.00                     0.00           357.48              15-Jan  \n",
      "4        0.00                     0.00            67.79              16-Jan  \n",
      "5        0.00                     0.00           161.03              15-Sep  \n",
      "6        0.00                     0.00           170.08              16-Jan  \n",
      "7        0.00                     0.00           111.34              14-Dec  \n",
      "8      189.06                     2.09           152.39              12-Aug  \n",
      "9      269.29                     2.52           121.45              13-Mar  \n",
      "\n",
      "[10 rows x 33 columns]\n",
      "(100, 33)\n"
     ]
    }
   ],
   "source": [
    "UST = pd.read_csv('../clean2.csv')\n",
    "print(UST.head(10))\n",
    "print(UST.shape)"
   ]
  },
  {
   "cell_type": "code",
   "execution_count": 9,
   "id": "35d23c5f",
   "metadata": {},
   "outputs": [
    {
     "name": "stdout",
     "output_type": "stream",
     "text": [
      "<class 'pandas.core.frame.DataFrame'>\n",
      "RangeIndex: 100 entries, 0 to 99\n",
      "Data columns (total 33 columns):\n",
      " #   Column                   Non-Null Count  Dtype  \n",
      "---  ------                   --------------  -----  \n",
      " 0   id                       100 non-null    int64  \n",
      " 1   member_id                100 non-null    int64  \n",
      " 2   CLI                      100 non-null    int64  \n",
      " 3   term                     100 non-null    object \n",
      " 4   int_rate                 100 non-null    float64\n",
      " 5   installment              100 non-null    float64\n",
      " 6   grade                    100 non-null    object \n",
      " 7   sub_grade                100 non-null    object \n",
      " 8   emp_length               100 non-null    object \n",
      " 9   home_ownership           100 non-null    object \n",
      " 10  annual_inc               100 non-null    float64\n",
      " 11  verification_status      100 non-null    object \n",
      " 12  loan_status              100 non-null    object \n",
      " 13  dti                      100 non-null    float64\n",
      " 14  delinq_2yrs              100 non-null    int64  \n",
      " 15  earliest_cr_line         100 non-null    object \n",
      " 16  inq_last_6mths           100 non-null    int64  \n",
      " 17  open_acc                 100 non-null    int64  \n",
      " 18  pub_rec                  100 non-null    int64  \n",
      " 19  revol_bal                100 non-null    int64  \n",
      " 20  revol_util               100 non-null    float64\n",
      " 21  total_acc                100 non-null    int64  \n",
      " 22  out_prncp                100 non-null    float64\n",
      " 23  out_prncp_inv            100 non-null    float64\n",
      " 24  total_pymnt              100 non-null    float64\n",
      " 25  total_pymnt_inv          100 non-null    float64\n",
      " 26  total_rec_prncp          100 non-null    float64\n",
      " 27  total_rec_int            100 non-null    float64\n",
      " 28  total_rec_late_fee       100 non-null    float64\n",
      " 29  recoveries               100 non-null    float64\n",
      " 30  collection_recovery_fee  100 non-null    float64\n",
      " 31  last_pymnt_amnt          100 non-null    float64\n",
      " 32  last_credit_pull_d       100 non-null    object \n",
      "dtypes: float64(15), int64(9), object(9)\n",
      "memory usage: 25.9+ KB\n"
     ]
    }
   ],
   "source": [
    "# See the column data types and non-missing values\n",
    "UST.info()"
   ]
  },
  {
   "cell_type": "code",
   "execution_count": 10,
   "id": "3118eba5",
   "metadata": {},
   "outputs": [
    {
     "data": {
      "text/html": [
       "<div>\n",
       "<style scoped>\n",
       "    .dataframe tbody tr th:only-of-type {\n",
       "        vertical-align: middle;\n",
       "    }\n",
       "\n",
       "    .dataframe tbody tr th {\n",
       "        vertical-align: top;\n",
       "    }\n",
       "\n",
       "    .dataframe thead th {\n",
       "        text-align: right;\n",
       "    }\n",
       "</style>\n",
       "<table border=\"1\" class=\"dataframe\">\n",
       "  <thead>\n",
       "    <tr style=\"text-align: right;\">\n",
       "      <th></th>\n",
       "      <th>id</th>\n",
       "      <th>member_id</th>\n",
       "      <th>CLI</th>\n",
       "      <th>int_rate</th>\n",
       "      <th>installment</th>\n",
       "      <th>annual_inc</th>\n",
       "      <th>dti</th>\n",
       "      <th>delinq_2yrs</th>\n",
       "      <th>inq_last_6mths</th>\n",
       "      <th>open_acc</th>\n",
       "      <th>...</th>\n",
       "      <th>out_prncp</th>\n",
       "      <th>out_prncp_inv</th>\n",
       "      <th>total_pymnt</th>\n",
       "      <th>total_pymnt_inv</th>\n",
       "      <th>total_rec_prncp</th>\n",
       "      <th>total_rec_int</th>\n",
       "      <th>total_rec_late_fee</th>\n",
       "      <th>recoveries</th>\n",
       "      <th>collection_recovery_fee</th>\n",
       "      <th>last_pymnt_amnt</th>\n",
       "    </tr>\n",
       "  </thead>\n",
       "  <tbody>\n",
       "    <tr>\n",
       "      <th>count</th>\n",
       "      <td>1.000000e+02</td>\n",
       "      <td>1.000000e+02</td>\n",
       "      <td>100.000000</td>\n",
       "      <td>100.000000</td>\n",
       "      <td>100.00000</td>\n",
       "      <td>100.000000</td>\n",
       "      <td>100.000000</td>\n",
       "      <td>100.000000</td>\n",
       "      <td>100.000000</td>\n",
       "      <td>100.000000</td>\n",
       "      <td>...</td>\n",
       "      <td>100.000000</td>\n",
       "      <td>100.000000</td>\n",
       "      <td>100.000000</td>\n",
       "      <td>100.000000</td>\n",
       "      <td>100.000000</td>\n",
       "      <td>100.000000</td>\n",
       "      <td>100.000000</td>\n",
       "      <td>100.000000</td>\n",
       "      <td>100.000000</td>\n",
       "      <td>100.000000</td>\n",
       "    </tr>\n",
       "    <tr>\n",
       "      <th>mean</th>\n",
       "      <td>1.066996e+06</td>\n",
       "      <td>1.298888e+06</td>\n",
       "      <td>9986.500000</td>\n",
       "      <td>13.020400</td>\n",
       "      <td>302.90740</td>\n",
       "      <td>57573.441900</td>\n",
       "      <td>14.305500</td>\n",
       "      <td>0.080000</td>\n",
       "      <td>0.970000</td>\n",
       "      <td>8.820000</td>\n",
       "      <td>...</td>\n",
       "      <td>209.006600</td>\n",
       "      <td>208.662600</td>\n",
       "      <td>10686.111311</td>\n",
       "      <td>10656.307200</td>\n",
       "      <td>8597.749200</td>\n",
       "      <td>2008.884300</td>\n",
       "      <td>0.959103</td>\n",
       "      <td>78.518300</td>\n",
       "      <td>8.457263</td>\n",
       "      <td>2595.705300</td>\n",
       "    </tr>\n",
       "    <tr>\n",
       "      <th>std</th>\n",
       "      <td>7.784985e+03</td>\n",
       "      <td>1.053401e+04</td>\n",
       "      <td>5380.282722</td>\n",
       "      <td>3.956175</td>\n",
       "      <td>163.47233</td>\n",
       "      <td>26999.818922</td>\n",
       "      <td>6.469216</td>\n",
       "      <td>0.393893</td>\n",
       "      <td>1.086696</td>\n",
       "      <td>3.610814</td>\n",
       "      <td>...</td>\n",
       "      <td>784.158403</td>\n",
       "      <td>782.760261</td>\n",
       "      <td>6743.046963</td>\n",
       "      <td>6678.262668</td>\n",
       "      <td>5623.218357</td>\n",
       "      <td>1927.725399</td>\n",
       "      <td>4.259756</td>\n",
       "      <td>371.625842</td>\n",
       "      <td>64.271577</td>\n",
       "      <td>3948.083744</td>\n",
       "    </tr>\n",
       "    <tr>\n",
       "      <th>min</th>\n",
       "      <td>1.032111e+06</td>\n",
       "      <td>1.261745e+06</td>\n",
       "      <td>1000.000000</td>\n",
       "      <td>6.030000</td>\n",
       "      <td>35.31000</td>\n",
       "      <td>12252.000000</td>\n",
       "      <td>1.000000</td>\n",
       "      <td>0.000000</td>\n",
       "      <td>0.000000</td>\n",
       "      <td>2.000000</td>\n",
       "      <td>...</td>\n",
       "      <td>0.000000</td>\n",
       "      <td>0.000000</td>\n",
       "      <td>0.000000</td>\n",
       "      <td>0.000000</td>\n",
       "      <td>0.000000</td>\n",
       "      <td>0.000000</td>\n",
       "      <td>0.000000</td>\n",
       "      <td>0.000000</td>\n",
       "      <td>0.000000</td>\n",
       "      <td>0.000000</td>\n",
       "    </tr>\n",
       "    <tr>\n",
       "      <th>25%</th>\n",
       "      <td>1.068484e+06</td>\n",
       "      <td>1.298932e+06</td>\n",
       "      <td>6000.000000</td>\n",
       "      <td>10.650000</td>\n",
       "      <td>168.27750</td>\n",
       "      <td>40000.000000</td>\n",
       "      <td>9.807500</td>\n",
       "      <td>0.000000</td>\n",
       "      <td>0.000000</td>\n",
       "      <td>6.000000</td>\n",
       "      <td>...</td>\n",
       "      <td>0.000000</td>\n",
       "      <td>0.000000</td>\n",
       "      <td>5438.655000</td>\n",
       "      <td>5438.655000</td>\n",
       "      <td>4393.750000</td>\n",
       "      <td>694.675000</td>\n",
       "      <td>0.000000</td>\n",
       "      <td>0.000000</td>\n",
       "      <td>0.000000</td>\n",
       "      <td>216.947500</td>\n",
       "    </tr>\n",
       "    <tr>\n",
       "      <th>50%</th>\n",
       "      <td>1.069072e+06</td>\n",
       "      <td>1.303455e+06</td>\n",
       "      <td>10000.000000</td>\n",
       "      <td>12.690000</td>\n",
       "      <td>296.20500</td>\n",
       "      <td>50000.000000</td>\n",
       "      <td>14.000000</td>\n",
       "      <td>0.000000</td>\n",
       "      <td>1.000000</td>\n",
       "      <td>8.000000</td>\n",
       "      <td>...</td>\n",
       "      <td>0.000000</td>\n",
       "      <td>0.000000</td>\n",
       "      <td>10381.755000</td>\n",
       "      <td>10381.755000</td>\n",
       "      <td>8350.000000</td>\n",
       "      <td>1440.650000</td>\n",
       "      <td>0.000000</td>\n",
       "      <td>0.000000</td>\n",
       "      <td>0.000000</td>\n",
       "      <td>422.375000</td>\n",
       "    </tr>\n",
       "    <tr>\n",
       "      <th>75%</th>\n",
       "      <td>1.069544e+06</td>\n",
       "      <td>1.304264e+06</td>\n",
       "      <td>12425.000000</td>\n",
       "      <td>15.960000</td>\n",
       "      <td>404.72500</td>\n",
       "      <td>75000.000000</td>\n",
       "      <td>20.002500</td>\n",
       "      <td>0.000000</td>\n",
       "      <td>2.000000</td>\n",
       "      <td>11.000000</td>\n",
       "      <td>...</td>\n",
       "      <td>0.000000</td>\n",
       "      <td>0.000000</td>\n",
       "      <td>14079.839593</td>\n",
       "      <td>14079.840000</td>\n",
       "      <td>12000.000000</td>\n",
       "      <td>2432.712500</td>\n",
       "      <td>0.000000</td>\n",
       "      <td>0.000000</td>\n",
       "      <td>0.000000</td>\n",
       "      <td>4018.437500</td>\n",
       "    </tr>\n",
       "    <tr>\n",
       "      <th>max</th>\n",
       "      <td>1.077501e+06</td>\n",
       "      <td>1.314167e+06</td>\n",
       "      <td>31825.000000</td>\n",
       "      <td>22.060000</td>\n",
       "      <td>995.82000</td>\n",
       "      <td>150000.000000</td>\n",
       "      <td>29.440000</td>\n",
       "      <td>3.000000</td>\n",
       "      <td>5.000000</td>\n",
       "      <td>20.000000</td>\n",
       "      <td>...</td>\n",
       "      <td>4523.910000</td>\n",
       "      <td>4516.510000</td>\n",
       "      <td>34886.080000</td>\n",
       "      <td>34886.080000</td>\n",
       "      <td>31825.000000</td>\n",
       "      <td>9519.710000</td>\n",
       "      <td>24.170000</td>\n",
       "      <td>3486.000000</td>\n",
       "      <td>625.617000</td>\n",
       "      <td>16966.700000</td>\n",
       "    </tr>\n",
       "  </tbody>\n",
       "</table>\n",
       "<p>8 rows × 24 columns</p>\n",
       "</div>"
      ],
      "text/plain": [
       "                 id     member_id           CLI    int_rate  installment  \\\n",
       "count  1.000000e+02  1.000000e+02    100.000000  100.000000    100.00000   \n",
       "mean   1.066996e+06  1.298888e+06   9986.500000   13.020400    302.90740   \n",
       "std    7.784985e+03  1.053401e+04   5380.282722    3.956175    163.47233   \n",
       "min    1.032111e+06  1.261745e+06   1000.000000    6.030000     35.31000   \n",
       "25%    1.068484e+06  1.298932e+06   6000.000000   10.650000    168.27750   \n",
       "50%    1.069072e+06  1.303455e+06  10000.000000   12.690000    296.20500   \n",
       "75%    1.069544e+06  1.304264e+06  12425.000000   15.960000    404.72500   \n",
       "max    1.077501e+06  1.314167e+06  31825.000000   22.060000    995.82000   \n",
       "\n",
       "          annual_inc         dti  delinq_2yrs  inq_last_6mths    open_acc  \\\n",
       "count     100.000000  100.000000   100.000000      100.000000  100.000000   \n",
       "mean    57573.441900   14.305500     0.080000        0.970000    8.820000   \n",
       "std     26999.818922    6.469216     0.393893        1.086696    3.610814   \n",
       "min     12252.000000    1.000000     0.000000        0.000000    2.000000   \n",
       "25%     40000.000000    9.807500     0.000000        0.000000    6.000000   \n",
       "50%     50000.000000   14.000000     0.000000        1.000000    8.000000   \n",
       "75%     75000.000000   20.002500     0.000000        2.000000   11.000000   \n",
       "max    150000.000000   29.440000     3.000000        5.000000   20.000000   \n",
       "\n",
       "       ...    out_prncp  out_prncp_inv   total_pymnt  total_pymnt_inv  \\\n",
       "count  ...   100.000000     100.000000    100.000000       100.000000   \n",
       "mean   ...   209.006600     208.662600  10686.111311     10656.307200   \n",
       "std    ...   784.158403     782.760261   6743.046963      6678.262668   \n",
       "min    ...     0.000000       0.000000      0.000000         0.000000   \n",
       "25%    ...     0.000000       0.000000   5438.655000      5438.655000   \n",
       "50%    ...     0.000000       0.000000  10381.755000     10381.755000   \n",
       "75%    ...     0.000000       0.000000  14079.839593     14079.840000   \n",
       "max    ...  4523.910000    4516.510000  34886.080000     34886.080000   \n",
       "\n",
       "       total_rec_prncp  total_rec_int  total_rec_late_fee   recoveries  \\\n",
       "count       100.000000     100.000000          100.000000   100.000000   \n",
       "mean       8597.749200    2008.884300            0.959103    78.518300   \n",
       "std        5623.218357    1927.725399            4.259756   371.625842   \n",
       "min           0.000000       0.000000            0.000000     0.000000   \n",
       "25%        4393.750000     694.675000            0.000000     0.000000   \n",
       "50%        8350.000000    1440.650000            0.000000     0.000000   \n",
       "75%       12000.000000    2432.712500            0.000000     0.000000   \n",
       "max       31825.000000    9519.710000           24.170000  3486.000000   \n",
       "\n",
       "       collection_recovery_fee  last_pymnt_amnt  \n",
       "count               100.000000       100.000000  \n",
       "mean                  8.457263      2595.705300  \n",
       "std                  64.271577      3948.083744  \n",
       "min                   0.000000         0.000000  \n",
       "25%                   0.000000       216.947500  \n",
       "50%                   0.000000       422.375000  \n",
       "75%                   0.000000      4018.437500  \n",
       "max                 625.617000     16966.700000  \n",
       "\n",
       "[8 rows x 24 columns]"
      ]
     },
     "execution_count": 10,
     "metadata": {},
     "output_type": "execute_result"
    }
   ],
   "source": [
    "UST.describe()"
   ]
  },
  {
   "cell_type": "code",
   "execution_count": 13,
   "id": "4d107d79",
   "metadata": {},
   "outputs": [
    {
     "data": {
      "text/plain": [
       "(9986.5, 10000.0)"
      ]
     },
     "execution_count": 13,
     "metadata": {},
     "output_type": "execute_result"
    }
   ],
   "source": [
    "# seems fine\n",
    "UST['CLI'].mean(), UST['CLI'].median()"
   ]
  },
  {
   "cell_type": "code",
   "execution_count": 18,
   "id": "19489fc0",
   "metadata": {},
   "outputs": [
    {
     "data": {
      "text/plain": [
       "<matplotlib.collections.PathCollection at 0x22dd5759a60>"
      ]
     },
     "execution_count": 18,
     "metadata": {},
     "output_type": "execute_result"
    },
    {
     "data": {
      "image/png": "[encoded data removed]",
      "text/plain": [
       "<Figure size 432x288 with 1 Axes>"
      ]
     },
     "metadata": {
      "needs_background": "light"
     },
     "output_type": "display_data"
    }
   ],
   "source": [
    "# Scatter plot to check the data, though not very useful here, should delete this cell\n",
    "x=UST['dti']\n",
    "y=UST['CLI']\n",
    "plt.scatter(x,y)"
   ]
  },
  {
   "cell_type": "code",
   "execution_count": 17,
   "id": "e08defa2",
   "metadata": {},
   "outputs": [
    {
     "data": {
      "text/plain": [
       "<matplotlib.colorbar.Colorbar at 0x22dd56ec250>"
      ]
     },
     "execution_count": 17,
     "metadata": {},
     "output_type": "execute_result"
    },
    {
     "data": {
      "image/png": "[encoded data removed]",
      "text/plain": [
       "<Figure size 432x288 with 2 Axes>"
      ]
     },
     "metadata": {
      "needs_background": "light"
     },
     "output_type": "display_data"
    }
   ],
   "source": [
    "# Plot to see the distribtion of dti vs CLI, also fairly useless\n",
    "rng=np.random.RandomState(0)\n",
    "x=UST2['dti']\n",
    "y=UST2['CLI']\n",
    "colors=rng.rand(100)\n",
    "sizes=1000*rng.rand(100)\n",
    "plt.scatter(x,y,c=colors,s=sizes,alpha=.3)\n",
    "plt.colorbar()"
   ]
  },
  {
   "cell_type": "code",
   "execution_count": 21,
   "id": "d11c6f89",
   "metadata": {},
   "outputs": [
    {
     "data": {
      "text/plain": [
       "'\\ndef missingdata(data):\\n    total = data.isnull().sum().sort_values(ascending = False)\\n    percent = (data.isnull().sum()/data.isnull().count()*100).sort_values(ascending = False)\\n    ms=pd.concat([total, percent], axis=1, keys=[\\'Total\\', \\'Percent\\'])\\n    ms= ms[ms[\"Percent\"] > 0]\\n    f,ax =plt.subplots(figsize=(8,6))\\n    plt.xticks(rotation=\\'90\\')\\n    fig=sns.barplot(ms.index, ms[\"Percent\"],color=\"green\",alpha=0.8)\\n    plt.xlabel(\\'Features\\', fontsize=15)\\n    plt.ylabel(\\'Percent of missing values\\', fontsize=15)\\n    plt.title(\\'Percent missing data by feature\\', fontsize=15)\\n    return ms\\nmissingdata(UST)\\n'"
      ]
     },
     "execution_count": 21,
     "metadata": {},
     "output_type": "execute_result"
    }
   ],
   "source": [
    "#old\n",
    "'''\n",
    "def missingdata(data):\n",
    "    total = data.isnull().sum().sort_values(ascending = False)\n",
    "    percent = (data.isnull().sum()/data.isnull().count()*100).sort_values(ascending = False)\n",
    "    ms=pd.concat([total, percent], axis=1, keys=['Total', 'Percent'])\n",
    "    ms= ms[ms[\"Percent\"] > 0]\n",
    "    f,ax =plt.subplots(figsize=(8,6))\n",
    "    plt.xticks(rotation='90')\n",
    "    fig=sns.barplot(ms.index, ms[\"Percent\"],color=\"green\",alpha=0.8)\n",
    "    plt.xlabel('Features', fontsize=15)\n",
    "    plt.ylabel('Percent of missing values', fontsize=15)\n",
    "    plt.title('Percent missing data by feature', fontsize=15)\n",
    "    return ms\n",
    "missingdata(UST)\n",
    "'''"
   ]
  },
  {
   "cell_type": "code",
   "execution_count": 19,
   "id": "813f628d",
   "metadata": {},
   "outputs": [
    {
     "data": {
      "text/plain": [
       "Index(['id', 'member_id', 'CLI', 'term', 'int_rate', 'installment', 'grade',\n",
       "       'sub_grade', 'emp_length', 'home_ownership', 'annual_inc',\n",
       "       'verification_status', 'loan_status', 'dti', 'delinq_2yrs',\n",
       "       'earliest_cr_line', 'inq_last_6mths', 'open_acc', 'pub_rec',\n",
       "       'revol_bal', 'revol_util', 'total_acc', 'out_prncp', 'out_prncp_inv',\n",
       "       'total_pymnt', 'total_pymnt_inv', 'total_rec_prncp', 'total_rec_int',\n",
       "       'total_rec_late_fee', 'recoveries', 'collection_recovery_fee',\n",
       "       'last_pymnt_amnt', 'last_credit_pull_d'],\n",
       "      dtype='object')"
      ]
     },
     "execution_count": 19,
     "metadata": {},
     "output_type": "execute_result"
    }
   ],
   "source": [
    "UST.columns"
   ]
  },
  {
   "cell_type": "code",
   "execution_count": 22,
   "id": "9a32b70c",
   "metadata": {},
   "outputs": [
    {
     "data": {
      "text/plain": [
       "(100, 33)"
      ]
     },
     "execution_count": 22,
     "metadata": {},
     "output_type": "execute_result"
    }
   ],
   "source": [
    "UST.shape"
   ]
  },
  {
   "cell_type": "code",
   "execution_count": 23,
   "id": "613004bc",
   "metadata": {},
   "outputs": [],
   "source": [
    "all_data = UST\n",
    "import re\n",
    "                                                                            \n",
    "traindf=UST\n",
    "\n",
    "traindf = pd.get_dummies(traindf, columns = [\"term\",\"grade\",\"sub_grade\",\"emp_length\",\"home_ownership\",\"verification_status\",\"loan_status\",\"earliest_cr_line\",\"last_credit_pull_d\"],\n",
    "                             prefix=[\"term\",\"grade\",\"sub_grade\",\"emp_length\",\"home_ownership\",\"verification_status\",\"loan_status\",\"earliest_cr_line\",\"last_credit_pull_d\"])"
   ]
  },
  {
   "cell_type": "code",
   "execution_count": 24,
   "id": "894da3bb",
   "metadata": {},
   "outputs": [
    {
     "data": {
      "text/html": [
       "<div>\n",
       "<style scoped>\n",
       "    .dataframe tbody tr th:only-of-type {\n",
       "        vertical-align: middle;\n",
       "    }\n",
       "\n",
       "    .dataframe tbody tr th {\n",
       "        vertical-align: top;\n",
       "    }\n",
       "\n",
       "    .dataframe thead th {\n",
       "        text-align: right;\n",
       "    }\n",
       "</style>\n",
       "<table border=\"1\" class=\"dataframe\">\n",
       "  <thead>\n",
       "    <tr style=\"text-align: right;\">\n",
       "      <th></th>\n",
       "      <th>id</th>\n",
       "      <th>member_id</th>\n",
       "      <th>CLI</th>\n",
       "      <th>int_rate</th>\n",
       "      <th>installment</th>\n",
       "      <th>annual_inc</th>\n",
       "      <th>dti</th>\n",
       "      <th>delinq_2yrs</th>\n",
       "      <th>inq_last_6mths</th>\n",
       "      <th>open_acc</th>\n",
       "      <th>...</th>\n",
       "      <th>last_credit_pull_d_15-Apr</th>\n",
       "      <th>last_credit_pull_d_15-Dec</th>\n",
       "      <th>last_credit_pull_d_15-Jan</th>\n",
       "      <th>last_credit_pull_d_15-Jul</th>\n",
       "      <th>last_credit_pull_d_15-Jun</th>\n",
       "      <th>last_credit_pull_d_15-Mar</th>\n",
       "      <th>last_credit_pull_d_15-Nov</th>\n",
       "      <th>last_credit_pull_d_15-Oct</th>\n",
       "      <th>last_credit_pull_d_15-Sep</th>\n",
       "      <th>last_credit_pull_d_16-Jan</th>\n",
       "    </tr>\n",
       "  </thead>\n",
       "  <tbody>\n",
       "    <tr>\n",
       "      <th>0</th>\n",
       "      <td>1077501</td>\n",
       "      <td>1296599</td>\n",
       "      <td>5000</td>\n",
       "      <td>10.65</td>\n",
       "      <td>162.87</td>\n",
       "      <td>24000.0</td>\n",
       "      <td>27.65</td>\n",
       "      <td>0</td>\n",
       "      <td>1</td>\n",
       "      <td>3</td>\n",
       "      <td>...</td>\n",
       "      <td>0</td>\n",
       "      <td>0</td>\n",
       "      <td>0</td>\n",
       "      <td>0</td>\n",
       "      <td>0</td>\n",
       "      <td>0</td>\n",
       "      <td>0</td>\n",
       "      <td>0</td>\n",
       "      <td>0</td>\n",
       "      <td>1</td>\n",
       "    </tr>\n",
       "    <tr>\n",
       "      <th>1</th>\n",
       "      <td>1077430</td>\n",
       "      <td>1314167</td>\n",
       "      <td>2500</td>\n",
       "      <td>15.27</td>\n",
       "      <td>59.83</td>\n",
       "      <td>30000.0</td>\n",
       "      <td>1.00</td>\n",
       "      <td>0</td>\n",
       "      <td>5</td>\n",
       "      <td>3</td>\n",
       "      <td>...</td>\n",
       "      <td>0</td>\n",
       "      <td>0</td>\n",
       "      <td>0</td>\n",
       "      <td>0</td>\n",
       "      <td>0</td>\n",
       "      <td>0</td>\n",
       "      <td>0</td>\n",
       "      <td>0</td>\n",
       "      <td>0</td>\n",
       "      <td>0</td>\n",
       "    </tr>\n",
       "    <tr>\n",
       "      <th>2</th>\n",
       "      <td>1077175</td>\n",
       "      <td>1313524</td>\n",
       "      <td>2400</td>\n",
       "      <td>15.96</td>\n",
       "      <td>84.33</td>\n",
       "      <td>12252.0</td>\n",
       "      <td>8.72</td>\n",
       "      <td>0</td>\n",
       "      <td>2</td>\n",
       "      <td>2</td>\n",
       "      <td>...</td>\n",
       "      <td>0</td>\n",
       "      <td>0</td>\n",
       "      <td>0</td>\n",
       "      <td>0</td>\n",
       "      <td>0</td>\n",
       "      <td>0</td>\n",
       "      <td>0</td>\n",
       "      <td>0</td>\n",
       "      <td>0</td>\n",
       "      <td>1</td>\n",
       "    </tr>\n",
       "    <tr>\n",
       "      <th>3</th>\n",
       "      <td>1076863</td>\n",
       "      <td>1277178</td>\n",
       "      <td>10000</td>\n",
       "      <td>13.49</td>\n",
       "      <td>339.31</td>\n",
       "      <td>49200.0</td>\n",
       "      <td>20.00</td>\n",
       "      <td>0</td>\n",
       "      <td>1</td>\n",
       "      <td>10</td>\n",
       "      <td>...</td>\n",
       "      <td>0</td>\n",
       "      <td>0</td>\n",
       "      <td>1</td>\n",
       "      <td>0</td>\n",
       "      <td>0</td>\n",
       "      <td>0</td>\n",
       "      <td>0</td>\n",
       "      <td>0</td>\n",
       "      <td>0</td>\n",
       "      <td>0</td>\n",
       "    </tr>\n",
       "    <tr>\n",
       "      <th>4</th>\n",
       "      <td>1075358</td>\n",
       "      <td>1311748</td>\n",
       "      <td>3000</td>\n",
       "      <td>12.69</td>\n",
       "      <td>67.79</td>\n",
       "      <td>80000.0</td>\n",
       "      <td>17.94</td>\n",
       "      <td>0</td>\n",
       "      <td>0</td>\n",
       "      <td>15</td>\n",
       "      <td>...</td>\n",
       "      <td>0</td>\n",
       "      <td>0</td>\n",
       "      <td>0</td>\n",
       "      <td>0</td>\n",
       "      <td>0</td>\n",
       "      <td>0</td>\n",
       "      <td>0</td>\n",
       "      <td>0</td>\n",
       "      <td>0</td>\n",
       "      <td>1</td>\n",
       "    </tr>\n",
       "  </tbody>\n",
       "</table>\n",
       "<p>5 rows × 185 columns</p>\n",
       "</div>"
      ],
      "text/plain": [
       "        id  member_id    CLI  int_rate  installment  annual_inc    dti  \\\n",
       "0  1077501    1296599   5000     10.65       162.87     24000.0  27.65   \n",
       "1  1077430    1314167   2500     15.27        59.83     30000.0   1.00   \n",
       "2  1077175    1313524   2400     15.96        84.33     12252.0   8.72   \n",
       "3  1076863    1277178  10000     13.49       339.31     49200.0  20.00   \n",
       "4  1075358    1311748   3000     12.69        67.79     80000.0  17.94   \n",
       "\n",
       "   delinq_2yrs  inq_last_6mths  open_acc  ...  last_credit_pull_d_15-Apr  \\\n",
       "0            0               1         3  ...                          0   \n",
       "1            0               5         3  ...                          0   \n",
       "2            0               2         2  ...                          0   \n",
       "3            0               1        10  ...                          0   \n",
       "4            0               0        15  ...                          0   \n",
       "\n",
       "   last_credit_pull_d_15-Dec  last_credit_pull_d_15-Jan  \\\n",
       "0                          0                          0   \n",
       "1                          0                          0   \n",
       "2                          0                          0   \n",
       "3                          0                          1   \n",
       "4                          0                          0   \n",
       "\n",
       "   last_credit_pull_d_15-Jul  last_credit_pull_d_15-Jun  \\\n",
       "0                          0                          0   \n",
       "1                          0                          0   \n",
       "2                          0                          0   \n",
       "3                          0                          0   \n",
       "4                          0                          0   \n",
       "\n",
       "   last_credit_pull_d_15-Mar  last_credit_pull_d_15-Nov  \\\n",
       "0                          0                          0   \n",
       "1                          0                          0   \n",
       "2                          0                          0   \n",
       "3                          0                          0   \n",
       "4                          0                          0   \n",
       "\n",
       "   last_credit_pull_d_15-Oct  last_credit_pull_d_15-Sep  \\\n",
       "0                          0                          0   \n",
       "1                          0                          0   \n",
       "2                          0                          0   \n",
       "3                          0                          0   \n",
       "4                          0                          0   \n",
       "\n",
       "   last_credit_pull_d_16-Jan  \n",
       "0                          1  \n",
       "1                          0  \n",
       "2                          1  \n",
       "3                          0  \n",
       "4                          1  \n",
       "\n",
       "[5 rows x 185 columns]"
      ]
     },
     "execution_count": 24,
     "metadata": {},
     "output_type": "execute_result"
    }
   ],
   "source": [
    "traindf.head()"
   ]
  },
  {
   "cell_type": "code",
   "execution_count": 26,
   "id": "6034db93",
   "metadata": {},
   "outputs": [
    {
     "data": {
      "text/plain": [
       "(100, 185)"
      ]
     },
     "execution_count": 26,
     "metadata": {},
     "output_type": "execute_result"
    }
   ],
   "source": [
    "traindf.shape"
   ]
  },
  {
   "cell_type": "code",
   "execution_count": 35,
   "id": "4d6fb178",
   "metadata": {},
   "outputs": [],
   "source": [
    "# only needs to be run once, just saves dataset after get_dummies\n",
    "traindf.to_csv('../cleaner.csv')"
   ]
  },
  {
   "cell_type": "code",
   "execution_count": 27,
   "id": "69041eff",
   "metadata": {},
   "outputs": [],
   "source": [
    "from sklearn.model_selection import train_test_split #for split the data\n",
    "from sklearn.metrics import accuracy_score  #for accuracy_score\n",
    "from sklearn.model_selection import KFold #for K-fold cross validation\n",
    "from sklearn.model_selection import cross_val_score #score evaluation\n",
    "from sklearn.model_selection import cross_val_predict #prediction\n",
    "from sklearn.model_selection import GridSearchCV # for Hyper parameter tuning\n",
    "from sklearn.metrics import confusion_matrix #for confusion matrix\n",
    "from sklearn import metrics"
   ]
  },
  {
   "cell_type": "code",
   "execution_count": 28,
   "id": "f2ff9adf",
   "metadata": {},
   "outputs": [
    {
     "data": {
      "text/plain": [
       "((70, 184), (30, 184), (70,), (30,))"
      ]
     },
     "execution_count": 28,
     "metadata": {},
     "output_type": "execute_result"
    }
   ],
   "source": [
    "all_features = traindf.drop(\"CLI\",axis=1)\n",
    "Targeted_feature = traindf[\"CLI\"]\n",
    "\n",
    "# total of 100 records in dataset\n",
    "# Divide the data set into two- 70% for train and 30% for test\n",
    "\n",
    "#X_train,X_test,y_train,y_test = train_test_split(all_features,Targeted_feature,test_size=0.3)  \n",
    "X_train,X_test,y_train,y_test = train_test_split(all_features,Targeted_feature,test_size=0.3,random_state=42) \n",
    "\n",
    "# Check the train test data set shape\n",
    "X_train.shape,X_test.shape,y_train.shape,y_test.shape"
   ]
  },
  {
   "cell_type": "code",
   "execution_count": 29,
   "id": "8f81570a",
   "metadata": {},
   "outputs": [
    {
     "data": {
      "text/plain": [
       "LogisticRegression()"
      ]
     },
     "execution_count": 29,
     "metadata": {},
     "output_type": "execute_result"
    }
   ],
   "source": [
    "# Train the logistic regression model with training data\n",
    "\n",
    "from sklearn.linear_model import LogisticRegression\n",
    "\n",
    "logreg = LogisticRegression()\n",
    "logreg.fit(X_train, y_train)\n"
   ]
  },
  {
   "cell_type": "code",
   "execution_count": 30,
   "id": "9007fba9",
   "metadata": {},
   "outputs": [
    {
     "name": "stdout",
     "output_type": "stream",
     "text": [
      "--------------The Accuracy of the model----------------------------\n",
      "Accuracy of logistic regression classifier on test set: 0.07\n"
     ]
    },
    {
     "data": {
      "text/plain": [
       "Text(0.5, 1.05, 'Confusion_matrix')"
      ]
     },
     "execution_count": 30,
     "metadata": {},
     "output_type": "execute_result"
    },
    {
     "data": {
      "image/png": "[encoded data removed]",
      "text/plain": [
       "<Figure size 432x288 with 2 Axes>"
      ]
     },
     "metadata": {
      "needs_background": "light"
     },
     "output_type": "display_data"
    }
   ],
   "source": [
    "# predict the model output with test data \n",
    "\n",
    "y_pred = logreg.predict(X_test)\n",
    "\n",
    "print('--------------The Accuracy of the model----------------------------')\n",
    "print('Accuracy of logistic regression classifier on test set: {:.2f}'.format(logreg.score(X_test, y_test)))\n",
    "\n",
    "sns.heatmap(confusion_matrix(y_test,y_pred),annot=True,fmt='3.0f',cmap=\"summer\")\n",
    "plt.title('Confusion_matrix', y=1.05, size=15)"
   ]
  },
  {
   "cell_type": "code",
   "execution_count": 31,
   "id": "5dcf6c6c",
   "metadata": {},
   "outputs": [
    {
     "name": "stdout",
     "output_type": "stream",
     "text": [
      "--------------The Accuracy of the model----------------------------\n",
      "The accuracy of the Random Forest Classifier is 23.33\n"
     ]
    }
   ],
   "source": [
    "from sklearn.ensemble import RandomForestClassifier\n",
    "rf_model = RandomForestClassifier(criterion='gini', n_estimators=700,\n",
    "                             min_samples_split=10,min_samples_leaf=1,\n",
    "                             max_features='auto',oob_score=True,\n",
    "                             random_state=1,n_jobs=-1)\n",
    "rf_model.fit(X_train,y_train)\n",
    "y_pred_rm=rf_model.predict(X_test)\n",
    "\n",
    "print('--------------The Accuracy of the model----------------------------')\n",
    "print('The accuracy of the Random Forest Classifier is', round(accuracy_score(y_pred_rm,y_test)*100,2))\n"
   ]
  },
  {
   "cell_type": "code",
   "execution_count": 32,
   "id": "0071514c",
   "metadata": {},
   "outputs": [
    {
     "name": "stdout",
     "output_type": "stream",
     "text": [
      "              precision    recall  f1-score   support\n",
      "\n",
      "        1000       0.00      0.00      0.00         0\n",
      "        3000       0.00      0.00      0.00         1\n",
      "        3500       0.00      0.00      0.00         2\n",
      "        4375       0.00      0.00      0.00         0\n",
      "        4500       0.00      0.00      0.00         0\n",
      "        5000       0.50      0.50      0.50         2\n",
      "        5375       0.00      0.00      0.00         0\n",
      "        6000       0.50      0.50      0.50         2\n",
      "        6500       0.00      0.00      0.00         0\n",
      "        7000       0.00      0.00      0.00         6\n",
      "        7200       0.00      0.00      0.00         0\n",
      "        9000       0.00      0.00      0.00         0\n",
      "        9600       0.00      0.00      0.00         0\n",
      "       10000       1.00      0.11      0.20         9\n",
      "       11000       0.00      0.00      0.00         0\n",
      "       12000       0.75      0.75      0.75         4\n",
      "       12500       0.00      0.00      0.00         0\n",
      "       12800       0.00      0.00      0.00         0\n",
      "       13575       0.00      0.00      0.00         0\n",
      "       14000       0.00      0.00      0.00         0\n",
      "       15000       0.50      0.25      0.33         4\n",
      "       21000       0.00      0.00      0.00         0\n",
      "       22075       0.00      0.00      0.00         0\n",
      "       31825       0.00      0.00      0.00         0\n",
      "\n",
      "    accuracy                           0.23        30\n",
      "   macro avg       0.14      0.09      0.10        30\n",
      "weighted avg       0.53      0.23      0.27        30\n",
      "\n"
     ]
    }
   ],
   "source": [
    "print(metrics.classification_report(y_pred_rm,y_test))"
   ]
  },
  {
   "cell_type": "code",
   "execution_count": 33,
   "id": "86621a41",
   "metadata": {},
   "outputs": [
    {
     "data": {
      "text/plain": [
       "Text(83.40000000000006, 0.5, 'predicted label')"
      ]
     },
     "execution_count": 33,
     "metadata": {},
     "output_type": "execute_result"
    },
    {
     "data": {
      "image/png": "[encoded data removed]",
      "text/plain": [
       "<Figure size 432x288 with 2 Axes>"
      ]
     },
     "metadata": {
      "needs_background": "light"
     },
     "output_type": "display_data"
    }
   ],
   "source": [
    "from sklearn.metrics import confusion_matrix\n",
    "mat=confusion_matrix(y_test,y_pred_rm)\n",
    "sns.heatmap(mat.T,square=True,annot=True,fmt='d')\n",
    "plt.xlabel('true label')\n",
    "plt.ylabel('predicted label')"
   ]
  },
  {
   "cell_type": "code",
   "execution_count": 34,
   "id": "d25f3bf5",
   "metadata": {},
   "outputs": [
    {
     "name": "stdout",
     "output_type": "stream",
     "text": [
      "[ 3500 10000 10000 15000  3500 10000 10000 15000  7000  7000  6000  7000\n",
      " 12000  5000 12000  6000 12000  7000 10000 15000 10000 12000 10000  7000\n",
      " 15000  3000 10000 10000  5000  7000]\n"
     ]
    }
   ],
   "source": [
    "print(y_pred_rm)"
   ]
  },
  {
   "cell_type": "code",
   "execution_count": 50,
   "id": "6fe055a0",
   "metadata": {},
   "outputs": [
    {
     "name": "stdout",
     "output_type": "stream",
     "text": [
      "(0.3, 9)\n"
     ]
    }
   ],
   "source": [
    "test_values = []\n",
    "pred_values = []\n",
    "\n",
    "for num in y_test:\n",
    "    test_values.append(num)\n",
    "\n",
    "for num in y_pred_rm:\n",
    "    pred_values.append(num)\n",
    "    \n",
    "# print(test_values)\n",
    "# print(y_pred_rm)\n",
    "# print(len(test_values), len(pred_values))\n",
    "\n",
    "\n",
    "def useTolerance(test_values, pred_values, tolerance):\n",
    "    # tolerance should be a number between 0 and 1\n",
    "    correctPredictions = 0\n",
    "    for i in range(len(test_values)):\n",
    "        high = pred_values[i] * (1 + tolerance)\n",
    "        low = pred_values[i] * (1 - tolerance)\n",
    "        if test_values[i] >= low and test_values[i] <= high:\n",
    "            correctPredictions += 1\n",
    "    accuracy = correctPredictions / len(test_values) \n",
    "    return accuracy, correctPredictions\n",
    "\n",
    "tolerance = 0.05\n",
    "print(useTolerance(test_values, pred_values, tolerance))"
   ]
  },
  {
   "cell_type": "code",
   "execution_count": null,
   "id": "fed428f4",
   "metadata": {},
   "outputs": [],
   "source": []
  }
 ],
 "metadata": {
  "kernelspec": {
   "display_name": "Python 3 (ipykernel)",
   "language": "python",
   "name": "python3"
  },
  "language_info": {
   "codemirror_mode": {
    "name": "ipython",
    "version": 3
   },
   "file_extension": ".py",
   "mimetype": "text/x-python",
   "name": "python",
   "nbconvert_exporter": "python",
   "pygments_lexer": "ipython3",
   "version": "3.9.12"
  }
 },
 "nbformat": 4,
 "nbformat_minor": 5
}
